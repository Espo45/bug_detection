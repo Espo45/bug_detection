{
 "cells": [
  {
   "cell_type": "markdown",
   "id": "b51ae8e4",
   "metadata": {},
   "source": [
    "# Data manipulation\n",
    "***"
   ]
  },
  {
   "cell_type": "markdown",
   "id": "24fc5664",
   "metadata": {},
   "source": [
    "0. [Loading the data](#load)\n",
    "1. [Introduction](#intro)\n",
    "1. [Turning defects into a dichotomous variable](#dich)\n",
    "1. [Oversampling](#os)\n",
    "1. [Splitting the data](#split)"
   ]
  },
  {
   "cell_type": "markdown",
   "id": "cb5ce22e",
   "metadata": {},
   "source": [
    " ### 0. Loading the data<a id='load'>"
   ]
  },
  {
   "cell_type": "markdown",
   "id": "060f1f5d",
   "metadata": {},
   "source": [
    "To load our data, we just run the <a href='loading_data.ipynb'>script we created for the purpose</a>"
   ]
  },
  {
   "cell_type": "code",
   "execution_count": 1,
   "id": "4cc82d52",
   "metadata": {},
   "outputs": [],
   "source": [
    "%%capture \n",
    "%run 1_loading_data.ipynb"
   ]
  },
  {
   "cell_type": "markdown",
   "id": "fd8dd52e",
   "metadata": {},
   "source": [
    "### 1. Introduction"
   ]
  },
  {
   "cell_type": "markdown",
   "id": "8072a992",
   "metadata": {},
   "source": [
    "A very important step in data analysis is data manipulation. Manipulation is the process of changing the data, in order to make it more readable and usable. In our <a href='eda.ipynb'>explorative data analysis</a>, we've seen that our datasets are strongly imbalanced on the 0. In this section, we will apply two manipulations: first of all, we will turn `defects` into a **dichotomous variable**, admitting just two values: <ul><li><b>0</b> for classes without defects</li><li><b>1</b> for classes that present one or more defects</li></ul> Then, we will apply a technique called **oversampling**, in order to improve the prediction of 1s."
   ]
  },
  {
   "cell_type": "markdown",
   "id": "1dcabef3",
   "metadata": {},
   "source": [
    "### 2. Turning defects into a dichotomous variable<a id='dich'>"
   ]
  },
  {
   "cell_type": "markdown",
   "id": "e83ff2c4",
   "metadata": {},
   "source": [
    "Let's start by defining a function that, taken a DataFrame as input, returns the same DataFrame in which the values of `defects > 1` has been turned into `1`"
   ]
  },
  {
   "cell_type": "code",
   "execution_count": 2,
   "id": "99a35831",
   "metadata": {},
   "outputs": [],
   "source": [
    "def transform_defects(dataFrame):\n",
    "    to_change = dataFrame[dataFrame['defects']>=2].index\n",
    "    for index in to_change:\n",
    "        dataFrame['defects'][index] = 1.0\n",
    "    return dataFrame"
   ]
  },
  {
   "cell_type": "markdown",
   "id": "45493de8",
   "metadata": {},
   "source": [
    "Now we can transform our datasets:"
   ]
  },
  {
   "cell_type": "code",
   "execution_count": 3,
   "id": "792f744b",
   "metadata": {},
   "outputs": [],
   "source": [
    "for key in names:\n",
    "    datasets[key] = transform_defects(datasets[key])"
   ]
  },
  {
   "cell_type": "markdown",
   "id": "df9f28e0",
   "metadata": {},
   "source": [
    "Let's explore the transformed datasets:"
   ]
  },
  {
   "cell_type": "code",
   "execution_count": 4,
   "id": "c93f1ed1",
   "metadata": {},
   "outputs": [],
   "source": [
    "def plot_zero_one(datasets, names, fileName):\n",
    "    bars = len(names)\n",
    "    plt.figure(figsize=(15,7))\n",
    "    x_pos = np.arange(bars)\n",
    "    heigths = [[],[]]\n",
    "\n",
    "    for key in names:\n",
    "        for i in (0,1):\n",
    "            heigths[i].append(datasets[key]['defects'].value_counts()[i])\n",
    "\n",
    "    plt.bar(x_pos - 0.2, heigths[0], 0.4, label = '0', color='#55CC55', edgecolor='black')\n",
    "    plt.bar(x_pos + 0.2, heigths[1], 0.4, label = '1', color='#AA3333', edgecolor='black')\n",
    "\n",
    "    plt.xticks(x_pos, names)\n",
    "    plt.xlabel(\"Dataset\")\n",
    "    plt.ylabel(\"Classes\")\n",
    "    plt.title(\"Defected classes\")\n",
    "    plt.legend()\n",
    "    savefig(fileName)\n",
    "    plt.show()"
   ]
  },
  {
   "cell_type": "code",
   "execution_count": 5,
   "id": "ff3b3c92",
   "metadata": {},
   "outputs": [
    {
     "data": {
      "image/png": "[encoded data removed]",
      "text/plain": [
       "<Figure size 1080x504 with 1 Axes>"
      ]
     },
     "metadata": {
      "needs_background": "light"
     },
     "output_type": "display_data"
    }
   ],
   "source": [
    "plot_zero_one(datasets, names, 'defect_distribution_in_transformed_data')"
   ]
  },
  {
   "cell_type": "markdown",
   "id": "45050ed1",
   "metadata": {},
   "source": [
    "As we can see, now `defects` assumes only 0 (standing for `False`)  and 1 (standing for `True`). This makes the prediction of presence of defective classes more reliable than before, but our distribution is still imbalanced."
   ]
  },
  {
   "cell_type": "markdown",
   "id": "dac6a33b",
   "metadata": {},
   "source": [
    "### 3. Oversampling"
   ]
  },
  {
   "cell_type": "markdown",
   "id": "1ae1c87b",
   "metadata": {},
   "source": [
    "Oversampling is a solution for strongly imbalanced datasets. Classic oversampling simply consists in duplicating values from the minority classes. The main problem with this techinque is that it makes the model *overfitted*, because the minority classes will just have the same observation replicated a large number of times, and obvoiusly this observation will have an enormous weight in the prediction process. "
   ]
  },
  {
   "cell_type": "markdown",
   "id": "d81bcce0",
   "metadata": {},
   "source": [
    "So, we may use a different technique known as **SMOTE** (Synthetic Minority Oversampling Technique). Instead of just duplicating the values, SMOTE algorithm works by selecting examples that are close in the feature space, drawing a line between the examples in the feature space and drawing a new sample at a point along that line.\n",
    "\n",
    "This method produces the so called *synthethic examples*"
   ]
  },
  {
   "cell_type": "markdown",
   "id": "f3ad738f",
   "metadata": {},
   "source": [
    "**In order to use the SMOTE algorithm, we will need a library contained in a package called `imbalanced-learn`** (it can be installed in Anaconda by running `conda install -c conda-forge imbalanced-learn`, but it is also included in many other repositories such as `pip` or `apt`)"
   ]
  },
  {
   "cell_type": "markdown",
   "id": "f1ec0ff7",
   "metadata": {},
   "source": [
    "First of all, we need to import the library"
   ]
  },
  {
   "cell_type": "code",
   "execution_count": 6,
   "id": "984b34e2",
   "metadata": {},
   "outputs": [],
   "source": [
    "from imblearn.over_sampling import SMOTE"
   ]
  },
  {
   "cell_type": "markdown",
   "id": "6360e0d1",
   "metadata": {},
   "source": [
    "The SMOTE class acts just like a data transform object from scikit-learn, in the sense that it must be first defined and configured, then fit on a dataset and in the end applied to create a new transformed version of the dataset."
   ]
  },
  {
   "cell_type": "code",
   "execution_count": 7,
   "id": "df0ec99a",
   "metadata": {},
   "outputs": [],
   "source": [
    "def oversample(dataFrame):\n",
    "    smote = SMOTE(sampling_strategy=0.85) #this parameter means that we will have a ratio between the n. of 1 and the n. of 0 equal to 0.85\n",
    "    x = dataFrame.drop('defects', axis=1)\n",
    "    y = dataFrame.defects\n",
    "    x, y = smote.fit_resample(x,y)\n",
    "    return pd.concat([x,y], axis=1)"
   ]
  },
  {
   "cell_type": "markdown",
   "id": "a0ac7615",
   "metadata": {},
   "source": [
    "We will store oure oversampled datasets into a new dictionary, called `oversampled`, structured the same way as `datasets`:"
   ]
  },
  {
   "cell_type": "code",
   "execution_count": 8,
   "id": "7d9c66b0",
   "metadata": {},
   "outputs": [],
   "source": [
    "oversampled=dict()\n",
    "for key in names:\n",
    "    oversampled[key] = oversample(datasets[key])"
   ]
  },
  {
   "cell_type": "markdown",
   "id": "cc8461be",
   "metadata": {},
   "source": [
    "Let's see now, for istance, the distribution of `ant`:"
   ]
  },
  {
   "cell_type": "code",
   "execution_count": 9,
   "id": "5b218cd5",
   "metadata": {},
   "outputs": [
    {
     "data": {
      "text/plain": [
       "0.0    579\n",
       "1.0    492\n",
       "Name: defects, dtype: int64"
      ]
     },
     "execution_count": 9,
     "metadata": {},
     "output_type": "execute_result"
    }
   ],
   "source": [
    "oversampled['ant']['defects'].value_counts()"
   ]
  },
  {
   "cell_type": "code",
   "execution_count": 10,
   "id": "1dac95ab",
   "metadata": {},
   "outputs": [
    {
     "data": {
      "image/png": "[encoded data removed]",
      "text/plain": [
       "<Figure size 1080x504 with 1 Axes>"
      ]
     },
     "metadata": {
      "needs_background": "light"
     },
     "output_type": "display_data"
    }
   ],
   "source": [
    "plot_zero_one(oversampled, names, 'defects_distribution_in_oversampled_data')"
   ]
  },
  {
   "cell_type": "markdown",
   "id": "c71f02cb",
   "metadata": {},
   "source": [
    "### 4. Splitting the data<a href='split'>"
   ]
  },
  {
   "cell_type": "markdown",
   "id": "034d20af",
   "metadata": {},
   "source": [
    "Our need, now, is to **split** each dataset into 2 parts: one for *training* and one for *testing*.\n",
    "\n",
    "The *training* set will be used by our models to learn the way to make the prediction, while the *testing* set will be used to evaluate the models' performances.\n",
    "An appropriate ratio could be `80%-20%`."
   ]
  },
  {
   "cell_type": "markdown",
   "id": "0ff26b49",
   "metadata": {},
   "source": [
    "Let's define a function that will help us to split datasets faster:"
   ]
  },
  {
   "cell_type": "code",
   "execution_count": 11,
   "id": "c606ed08",
   "metadata": {},
   "outputs": [],
   "source": [
    "from sklearn.model_selection import train_test_split\n",
    "def split(dataFrame):\n",
    "    y = dataFrame.defects\n",
    "    x = dataFrame.drop('defects', axis=1)\n",
    "    x_train, x_test, y_train, y_test = train_test_split(x,y,test_size=0.2)\n",
    "    return x_train, x_test, y_train, y_test"
   ]
  },
  {
   "cell_type": "markdown",
   "id": "db2c9f79",
   "metadata": {},
   "source": [
    "First of all, our function will remove the variable to predict (in our case, `defects`) from the dataset, and assign it to a new set `Y`, while `X` will now be the **original dataset without `defects`**. Then, it will split `X` and `Y` into 2 parts, one for training and one for testing. As a result, it will create 4 new variables per each dataset:\n",
    "<ul>\n",
    "    <li>X train</li>\n",
    "    <li>X test</li>\n",
    "    <li>Y train</li>\n",
    "    <li>Y test</li>\n",
    "</ul>"
   ]
  },
  {
   "cell_type": "markdown",
   "id": "66a5f895",
   "metadata": {},
   "source": [
    "We decide to store our splitted sets into a new dictionary, structured as\n",
    "\n",
    "`dataset: list(xtrain, xtest, ytrain, ytest)`\n",
    "\n",
    "As before, the main reason we use this method is practical: later, we will need to repeat the same operations for every dataset, and, this way, we will be able to use loops.\n",
    "\n",
    "`splitted[dataset][0]`: X Train\n",
    "\n",
    "`splitted[dataset][1]`: X Test\n",
    "\n",
    "`splitted[dataset][2]`: Y Train\n",
    "\n",
    "`splitted[dataset][3]`: Y Test"
   ]
  },
  {
   "cell_type": "code",
   "execution_count": 12,
   "id": "1fde1486",
   "metadata": {},
   "outputs": [],
   "source": [
    "splitted = dict()\n",
    "for key in names:\n",
    "    xtrain, xtest, ytrain, ytest = split(oversampled[key])\n",
    "    splitted[key] = [xtrain, xtest, ytrain, ytest]"
   ]
  },
  {
   "cell_type": "markdown",
   "id": "d7bb2e27",
   "metadata": {},
   "source": [
    "First of all, let's see the lenght of our new sets:"
   ]
  },
  {
   "cell_type": "code",
   "execution_count": 13,
   "id": "b86a1cc3",
   "metadata": {},
   "outputs": [
    {
     "data": {
      "text/html": [
       "<div>\n",
       "<style scoped>\n",
       "    .dataframe tbody tr th:only-of-type {\n",
       "        vertical-align: middle;\n",
       "    }\n",
       "\n",
       "    .dataframe tbody tr th {\n",
       "        vertical-align: top;\n",
       "    }\n",
       "\n",
       "    .dataframe thead th {\n",
       "        text-align: right;\n",
       "    }\n",
       "</style>\n",
       "<table border=\"1\" class=\"dataframe\">\n",
       "  <thead>\n",
       "    <tr style=\"text-align: right;\">\n",
       "      <th></th>\n",
       "      <th>ant</th>\n",
       "      <th>camel</th>\n",
       "      <th>ivy</th>\n",
       "      <th>jedit</th>\n",
       "      <th>log4j</th>\n",
       "      <th>tomcat</th>\n",
       "      <th>velocity</th>\n",
       "      <th>xalan</th>\n",
       "      <th>xerces</th>\n",
       "    </tr>\n",
       "  </thead>\n",
       "  <tbody>\n",
       "    <tr>\n",
       "      <th>Training set</th>\n",
       "      <td>856</td>\n",
       "      <td>1075</td>\n",
       "      <td>461</td>\n",
       "      <td>341</td>\n",
       "      <td>148</td>\n",
       "      <td>1155</td>\n",
       "      <td>223</td>\n",
       "      <td>907</td>\n",
       "      <td>568</td>\n",
       "    </tr>\n",
       "    <tr>\n",
       "      <th>Testing set</th>\n",
       "      <td>215</td>\n",
       "      <td>269</td>\n",
       "      <td>116</td>\n",
       "      <td>86</td>\n",
       "      <td>38</td>\n",
       "      <td>289</td>\n",
       "      <td>56</td>\n",
       "      <td>227</td>\n",
       "      <td>142</td>\n",
       "    </tr>\n",
       "  </tbody>\n",
       "</table>\n",
       "</div>"
      ],
      "text/plain": [
       "              ant  camel  ivy  jedit  log4j  tomcat  velocity  xalan  xerces\n",
       "Training set  856   1075  461    341    148    1155       223    907     568\n",
       "Testing set   215    269  116     86     38     289        56    227     142"
      ]
     },
     "execution_count": 13,
     "metadata": {},
     "output_type": "execute_result"
    }
   ],
   "source": [
    "lengths_matrix = []\n",
    "for key in names:\n",
    "    length = []\n",
    "    for i in range(2):\n",
    "        length.append(len(splitted[key][i]))\n",
    "    lengths_matrix.append(length)\n",
    "\n",
    "lengths_matrix = pd.DataFrame(lengths_matrix).transpose()\n",
    "lengths_matrix.index = ['Training set','Testing set']\n",
    "lengths_matrix.columns = list(oversampled.keys())\n",
    "\n",
    "lengths_matrix"
   ]
  },
  {
   "cell_type": "markdown",
   "id": "621dfbe6",
   "metadata": {},
   "source": [
    "As we can see, our function assigned the 80% of the obs. to the training sets, and 20% to the testing sets."
   ]
  },
  {
   "cell_type": "markdown",
   "id": "6c8404eb",
   "metadata": {},
   "source": [
    "Let's explore `ant` to see how did it work:"
   ]
  },
  {
   "cell_type": "code",
   "execution_count": 14,
   "id": "8f5881fa",
   "metadata": {},
   "outputs": [
    {
     "data": {
      "text/html": [
       "<div>\n",
       "<style scoped>\n",
       "    .dataframe tbody tr th:only-of-type {\n",
       "        vertical-align: middle;\n",
       "    }\n",
       "\n",
       "    .dataframe tbody tr th {\n",
       "        vertical-align: top;\n",
       "    }\n",
       "\n",
       "    .dataframe thead th {\n",
       "        text-align: right;\n",
       "    }\n",
       "</style>\n",
       "<table border=\"1\" class=\"dataframe\">\n",
       "  <thead>\n",
       "    <tr style=\"text-align: right;\">\n",
       "      <th></th>\n",
       "      <th>wmc</th>\n",
       "      <th>dit</th>\n",
       "      <th>noc</th>\n",
       "      <th>cbo</th>\n",
       "      <th>rfc</th>\n",
       "      <th>lcom</th>\n",
       "      <th>ca</th>\n",
       "      <th>ce</th>\n",
       "      <th>npm</th>\n",
       "      <th>lcom3</th>\n",
       "      <th>loc</th>\n",
       "      <th>dam</th>\n",
       "      <th>moa</th>\n",
       "      <th>mfa</th>\n",
       "      <th>cam</th>\n",
       "      <th>ic</th>\n",
       "      <th>cbm</th>\n",
       "      <th>amc</th>\n",
       "      <th>max_cc</th>\n",
       "      <th>avg_cc</th>\n",
       "    </tr>\n",
       "  </thead>\n",
       "  <tbody>\n",
       "    <tr>\n",
       "      <th>426</th>\n",
       "      <td>2.000000</td>\n",
       "      <td>1.000000</td>\n",
       "      <td>0.0</td>\n",
       "      <td>2.000000</td>\n",
       "      <td>3.000000</td>\n",
       "      <td>0.000000</td>\n",
       "      <td>2.000000</td>\n",
       "      <td>0.000000</td>\n",
       "      <td>1.000000</td>\n",
       "      <td>0.000000</td>\n",
       "      <td>12.000000</td>\n",
       "      <td>1.000000</td>\n",
       "      <td>0.000000</td>\n",
       "      <td>0.000000</td>\n",
       "      <td>0.750000</td>\n",
       "      <td>0.000000</td>\n",
       "      <td>0.000000</td>\n",
       "      <td>4.500000</td>\n",
       "      <td>1.000000</td>\n",
       "      <td>0.500000</td>\n",
       "    </tr>\n",
       "    <tr>\n",
       "      <th>925</th>\n",
       "      <td>7.837126</td>\n",
       "      <td>2.472854</td>\n",
       "      <td>0.0</td>\n",
       "      <td>6.527146</td>\n",
       "      <td>61.434331</td>\n",
       "      <td>15.092815</td>\n",
       "      <td>0.527146</td>\n",
       "      <td>6.527146</td>\n",
       "      <td>5.309980</td>\n",
       "      <td>0.921191</td>\n",
       "      <td>379.472854</td>\n",
       "      <td>0.947461</td>\n",
       "      <td>0.472854</td>\n",
       "      <td>0.832178</td>\n",
       "      <td>0.389872</td>\n",
       "      <td>0.472854</td>\n",
       "      <td>0.472854</td>\n",
       "      <td>54.694871</td>\n",
       "      <td>6.798602</td>\n",
       "      <td>2.073756</td>\n",
       "    </tr>\n",
       "    <tr>\n",
       "      <th>326</th>\n",
       "      <td>12.000000</td>\n",
       "      <td>1.000000</td>\n",
       "      <td>0.0</td>\n",
       "      <td>19.000000</td>\n",
       "      <td>33.000000</td>\n",
       "      <td>66.000000</td>\n",
       "      <td>13.000000</td>\n",
       "      <td>7.000000</td>\n",
       "      <td>10.000000</td>\n",
       "      <td>1.045455</td>\n",
       "      <td>261.000000</td>\n",
       "      <td>0.000000</td>\n",
       "      <td>0.000000</td>\n",
       "      <td>0.000000</td>\n",
       "      <td>0.259259</td>\n",
       "      <td>0.000000</td>\n",
       "      <td>0.000000</td>\n",
       "      <td>20.583333</td>\n",
       "      <td>8.000000</td>\n",
       "      <td>1.916700</td>\n",
       "    </tr>\n",
       "    <tr>\n",
       "      <th>825</th>\n",
       "      <td>6.644276</td>\n",
       "      <td>4.644276</td>\n",
       "      <td>0.0</td>\n",
       "      <td>8.355724</td>\n",
       "      <td>31.677862</td>\n",
       "      <td>11.254968</td>\n",
       "      <td>0.000000</td>\n",
       "      <td>8.355724</td>\n",
       "      <td>3.322138</td>\n",
       "      <td>0.396351</td>\n",
       "      <td>170.725162</td>\n",
       "      <td>1.000000</td>\n",
       "      <td>1.000000</td>\n",
       "      <td>0.927396</td>\n",
       "      <td>0.357143</td>\n",
       "      <td>1.644276</td>\n",
       "      <td>3.577106</td>\n",
       "      <td>25.247318</td>\n",
       "      <td>2.677862</td>\n",
       "      <td>1.298664</td>\n",
       "    </tr>\n",
       "    <tr>\n",
       "      <th>503</th>\n",
       "      <td>9.000000</td>\n",
       "      <td>3.000000</td>\n",
       "      <td>0.0</td>\n",
       "      <td>8.000000</td>\n",
       "      <td>38.000000</td>\n",
       "      <td>14.000000</td>\n",
       "      <td>1.000000</td>\n",
       "      <td>8.000000</td>\n",
       "      <td>7.000000</td>\n",
       "      <td>0.875000</td>\n",
       "      <td>345.000000</td>\n",
       "      <td>1.000000</td>\n",
       "      <td>0.000000</td>\n",
       "      <td>0.766667</td>\n",
       "      <td>0.375000</td>\n",
       "      <td>3.000000</td>\n",
       "      <td>5.000000</td>\n",
       "      <td>36.555556</td>\n",
       "      <td>3.000000</td>\n",
       "      <td>1.222200</td>\n",
       "    </tr>\n",
       "  </tbody>\n",
       "</table>\n",
       "</div>"
      ],
      "text/plain": [
       "           wmc       dit  noc        cbo        rfc       lcom         ca  \\\n",
       "426   2.000000  1.000000  0.0   2.000000   3.000000   0.000000   2.000000   \n",
       "925   7.837126  2.472854  0.0   6.527146  61.434331  15.092815   0.527146   \n",
       "326  12.000000  1.000000  0.0  19.000000  33.000000  66.000000  13.000000   \n",
       "825   6.644276  4.644276  0.0   8.355724  31.677862  11.254968   0.000000   \n",
       "503   9.000000  3.000000  0.0   8.000000  38.000000  14.000000   1.000000   \n",
       "\n",
       "           ce        npm     lcom3         loc       dam       moa       mfa  \\\n",
       "426  0.000000   1.000000  0.000000   12.000000  1.000000  0.000000  0.000000   \n",
       "925  6.527146   5.309980  0.921191  379.472854  0.947461  0.472854  0.832178   \n",
       "326  7.000000  10.000000  1.045455  261.000000  0.000000  0.000000  0.000000   \n",
       "825  8.355724   3.322138  0.396351  170.725162  1.000000  1.000000  0.927396   \n",
       "503  8.000000   7.000000  0.875000  345.000000  1.000000  0.000000  0.766667   \n",
       "\n",
       "          cam        ic       cbm        amc    max_cc    avg_cc  \n",
       "426  0.750000  0.000000  0.000000   4.500000  1.000000  0.500000  \n",
       "925  0.389872  0.472854  0.472854  54.694871  6.798602  2.073756  \n",
       "326  0.259259  0.000000  0.000000  20.583333  8.000000  1.916700  \n",
       "825  0.357143  1.644276  3.577106  25.247318  2.677862  1.298664  \n",
       "503  0.375000  3.000000  5.000000  36.555556  3.000000  1.222200  "
      ]
     },
     "execution_count": 14,
     "metadata": {},
     "output_type": "execute_result"
    }
   ],
   "source": [
    "splitted['ant'][0].head() # head of ant X train "
   ]
  },
  {
   "cell_type": "markdown",
   "id": "40db5ab2",
   "metadata": {},
   "source": [
    "We can notice how `defects` has been dropped from the rest of the set."
   ]
  },
  {
   "cell_type": "code",
   "execution_count": 15,
   "id": "a1098bed",
   "metadata": {},
   "outputs": [
    {
     "data": {
      "text/plain": [
       "0.0    470\n",
       "1.0    386\n",
       "Name: defects, dtype: int64"
      ]
     },
     "execution_count": 15,
     "metadata": {},
     "output_type": "execute_result"
    }
   ],
   "source": [
    "splitted['ant'][2].value_counts() #value counts of ant Y train"
   ]
  },
  {
   "cell_type": "markdown",
   "id": "c78aaec3",
   "metadata": {},
   "source": [
    "Now we are ready to perform the analysis"
   ]
  }
 ],
 "metadata": {
  "kernelspec": {
   "display_name": "Python 3 (ipykernel)",
   "language": "python",
   "name": "python3"
  },
  "language_info": {
   "codemirror_mode": {
    "name": "ipython",
    "version": 3
   },
   "file_extension": ".py",
   "mimetype": "text/x-python",
   "name": "python",
   "nbconvert_exporter": "python",
   "pygments_lexer": "ipython3",
   "version": "3.8.8"
  }
 },
 "nbformat": 4,
 "nbformat_minor": 5
}
