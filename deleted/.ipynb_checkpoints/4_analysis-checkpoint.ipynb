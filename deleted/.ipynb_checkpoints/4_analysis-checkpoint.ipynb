{
 "cells": [
  {
   "cell_type": "markdown",
   "id": "8ec3eeb4",
   "metadata": {},
   "source": [
    "# Analysis\n",
    "***"
   ]
  },
  {
   "cell_type": "markdown",
   "id": "996bb3e2",
   "metadata": {},
   "source": [
    "0. [Loading data](#load)\n",
    "1. [Introduction](#intro)\n",
    "1. [Scores dictionaries](#scores)\n",
    "1. [Logistic regression](#lr)\n",
    "1. [Naive Bayes](#nb)\n",
    "1. [K-Nearest Neighbor](#knn)\n",
    "1. [Neural Network](#nn)\n",
    "1. [Support Vector Machine](#svm)\n",
    "1. [Decision Trees](#dt)\n",
    "1. [Random Forest](#rf)\n",
    "1. [XG-Boost](#xgb)"
   ]
  },
  {
   "cell_type": "markdown",
   "id": "0c03b7ae",
   "metadata": {},
   "source": [
    "### 0. Loading data<a id='load'>"
   ]
  },
  {
   "cell_type": "markdown",
   "id": "badc6ac3",
   "metadata": {},
   "source": [
    "To load our data, we will just run the <a href='3_data_manipulation.ipynb'>data manipulation script</a>."
   ]
  },
  {
   "cell_type": "code",
   "execution_count": 1,
   "id": "0e53bd70",
   "metadata": {},
   "outputs": [],
   "source": [
    "%%capture\n",
    "%run 3_data_manipulation.ipynb"
   ]
  },
  {
   "cell_type": "markdown",
   "id": "51bb2f78",
   "metadata": {},
   "source": [
    "### 1. Introduction<a id='intro'>"
   ]
  },
  {
   "cell_type": "markdown",
   "id": "af1421e2",
   "metadata": {},
   "source": [
    "In this section, we will finally perform the analysis on our data. As said before, the main goal of this work is to evaluate the performance of 8 different well-known data science algorithms, in order to find which one is the best for predicting software defects. The algorithms we will use are the following:\n",
    "\n",
    "<ul>\n",
    "    <li>Logistic Regression</li>\n",
    "    <li>Naive Bayes</li>\n",
    "    <li>K-Nearest Neighbor</li>\n",
    "    <li>Neural Network</li>\n",
    "    <li>Support Vector Machine</li>\n",
    "    <li>Decision Trees</li>\n",
    "    <li>Random Forest</li>\n",
    "    <li>XG-Boost</li>\n",
    "</ul>\n",
    "\n",
    "After that, we will get our conclusions by comparing two scores: **AUC** and **F1**"
   ]
  },
  {
   "cell_type": "markdown",
   "id": "8b5e7dd6",
   "metadata": {},
   "source": [
    "   #### 1.1 AUC"
   ]
  },
  {
   "cell_type": "markdown",
   "id": "7a214c3c",
   "metadata": {},
   "source": [
    "To explain better what AUC is, we first need to introduce the concept of **ROC curve**."
   ]
  },
  {
   "cell_type": "markdown",
   "id": "bf744436",
   "metadata": {},
   "source": [
    "The Receiving Operating Charactheristic (ROC) curve is a graph that shows how a model performs among all the possibile thresholds. This graphs consider two values: the **False Positive rate** on the X axis, and the **True Positive rate** on the Y axis. It basically plots the two rates at different thresholds. A ROC curve usually has a behaviour like this:"
   ]
  },
  {
   "cell_type": "code",
   "execution_count": 2,
   "id": "3f01f244",
   "metadata": {},
   "outputs": [
    {
     "data": {
      "image/png": "[encoded data removed]",
      "text/plain": [
       "<Figure size 432x288 with 1 Axes>"
      ]
     },
     "metadata": {
      "needs_background": "light"
     },
     "output_type": "display_data"
    }
   ],
   "source": [
    "x = np.linspace(0,1,1000)\n",
    "y = x**(1/4) #this does NOT mean that TPR equals to FPR ^ 1/4. This graph is just explanatory.\n",
    "plt.plot(x, y)\n",
    "plt.xlabel('FPR')\n",
    "plt.ylabel('TPR')\n",
    "plt.show()"
   ]
  },
  {
   "cell_type": "markdown",
   "id": "5320e2ba",
   "metadata": {},
   "source": [
    "The **Area Under the Curve (AUC)** is basically the area between the ROC curve and the X axis.\n",
    "Given that TPR and FPR are both included in the interval [0,1], the definite integral of the ROC curve (that is, in fact, the AUC) will also be a value between 0 and 1."
   ]
  },
  {
   "cell_type": "markdown",
   "id": "e1d15df9",
   "metadata": {},
   "source": [
    "#### 1.2 F1 score"
   ]
  },
  {
   "cell_type": "markdown",
   "id": "0ab6066f",
   "metadata": {},
   "source": [
    "The F1 score is a measure computed by the use of two other well-known measures: **precision** and **recall**.\n",
    "\n",
    "**Precision** is the accuracy of positive values predictions. It is defined as"
   ]
  },
  {
   "cell_type": "markdown",
   "id": "a20ed035",
   "metadata": {},
   "source": [
    "*Precision =* $ \\frac{TP}{TP + FP} $\n",
    "\n",
    "where *TP* is the n. of true positives and *FP* the n. of false positives.\n",
    "\n",
    "It is clear that precision alone is not a reliable measure, because, ironically, a model that predicts positives with high cautiousness and returns many false negatives would have an high precision. This is why we need to use another measure too, that is recall."
   ]
  },
  {
   "cell_type": "markdown",
   "id": "536e4eac",
   "metadata": {},
   "source": [
    "**Recall** is the ratio of positive istances correctly detected by the model. It is defined as"
   ]
  },
  {
   "cell_type": "markdown",
   "id": "4af0776f",
   "metadata": {},
   "source": [
    "*Recall =* $\\frac{TP}{TP + FN}$\n",
    "\n",
    "where FN is, now, the n. of false negatives."
   ]
  },
  {
   "cell_type": "markdown",
   "id": "ecaaafb9",
   "metadata": {},
   "source": [
    "**F1 score** is simply a measure that **combines precision and recall**, and it is defined as their **harmonic mean**:"
   ]
  },
  {
   "cell_type": "markdown",
   "id": "2dd9bbdb",
   "metadata": {},
   "source": [
    "*F1 =* $\\frac{TP}{TP + \\frac{FP + FN}{2}}$"
   ]
  },
  {
   "cell_type": "markdown",
   "id": "fb6adf8e",
   "metadata": {},
   "source": [
    "As the AUC, F1 score is also included between 0 and 1."
   ]
  },
  {
   "cell_type": "markdown",
   "id": "f38aabc2",
   "metadata": {},
   "source": [
    "### 2. Scores dictionaries<a id='scores'>"
   ]
  },
  {
   "cell_type": "markdown",
   "id": "78eae8c6",
   "metadata": {},
   "source": [
    "We will store scores into 2 new dictionaries that we will call `auc_scores` and `f1_scores`, structured as:\n",
    "\n",
    "`{`\n",
    "\n",
    "`model`: `score`\n",
    "\n",
    "`}`"
   ]
  },
  {
   "cell_type": "code",
   "execution_count": 3,
   "id": "426a2fbb",
   "metadata": {},
   "outputs": [],
   "source": [
    "models = ['LR', 'NB', 'KNN', 'NN', 'SVM', 'DT', 'RF', 'XGB']\n",
    "auc_scores = dict()\n",
    "f1_scores = dict()\n",
    "for key in models:\n",
    "    auc_scores[key] = list()\n",
    "    f1_scores[key] = list()"
   ]
  },
  {
   "cell_type": "markdown",
   "id": "e4c16b77",
   "metadata": {},
   "source": [
    "Just to recall, our data is stored into the dictionary `splitted`, in which every *key* (representing a project) is associated to a list that has:\n",
    "<ul>\n",
    "    <li>In position <b>0</b>: X train set</li>\n",
    "    <li>In position <b>1</b>: X test set</li>\n",
    "    <li>In position <b>2</b>: Y train set</li>\n",
    "    <li>In position <b>3</b>: Y test set</li>\n",
    "</ul>"
   ]
  },
  {
   "cell_type": "markdown",
   "id": "16348a0c",
   "metadata": {},
   "source": [
    "Later, we will have to compute, for each model, 9 AUCs and 9 F1 scores. We can define a function, in order to avoid to repeat the same code multiple times (we assume we'll use this function in a *for* loop)"
   ]
  },
  {
   "cell_type": "code",
   "execution_count": 4,
   "id": "164e368b",
   "metadata": {},
   "outputs": [],
   "source": [
    "def compute_scores(model, dataset, auc_scores, f1_scores):\n",
    "    auc = roc_auc_score(splitted[dataset][3], y_pred, average=\"weighted\")\n",
    "    auc_scores[model].append(auc)\n",
    "    f1 = f1_score(splitted[dataset][3], y_pred, average='weighted')\n",
    "    f1_scores[model].append(f1)"
   ]
  },
  {
   "cell_type": "markdown",
   "id": "f6b975bc",
   "metadata": {},
   "source": [
    "### 3. Logistic regression<a id='lr'>"
   ]
  },
  {
   "cell_type": "markdown",
   "id": "6c926209",
   "metadata": {},
   "source": [
    "As first, we will run a Logistic Regression algorithm"
   ]
  },
  {
   "cell_type": "code",
   "execution_count": 5,
   "id": "f84e43cd",
   "metadata": {},
   "outputs": [],
   "source": [
    "from sklearn.linear_model import LogisticRegression"
   ]
  },
  {
   "cell_type": "markdown",
   "id": "26fd5b56",
   "metadata": {},
   "source": [
    "In order to explore it, we will **try the model on `ant`**.\n",
    "\n",
    "First of all, let's define our model and fit it on `ant` data"
   ]
  },
  {
   "cell_type": "code",
   "execution_count": 6,
   "id": "0ed61d92",
   "metadata": {
    "scrolled": true
   },
   "outputs": [
    {
     "name": "stderr",
     "output_type": "stream",
     "text": [
      "/home/giovanni/anaconda3/lib/python3.8/site-packages/sklearn/linear_model/_logistic.py:814: ConvergenceWarning:\n",
      "\n",
      "lbfgs failed to converge (status=1):\n",
      "STOP: TOTAL NO. of ITERATIONS REACHED LIMIT.\n",
      "\n",
      "Increase the number of iterations (max_iter) or scale the data as shown in:\n",
      "    https://scikit-learn.org/stable/modules/preprocessing.html\n",
      "Please also refer to the documentation for alternative solver options:\n",
      "    https://scikit-learn.org/stable/modules/linear_model.html#logistic-regression\n",
      "\n"
     ]
    },
    {
     "data": {
      "text/plain": [
       "LogisticRegression(random_state=45)"
      ]
     },
     "execution_count": 6,
     "metadata": {},
     "output_type": "execute_result"
    }
   ],
   "source": [
    "LR = LogisticRegression(random_state = 45)\n",
    "LR.fit(splitted['ant'][0],splitted['ant'][2])"
   ]
  },
  {
   "cell_type": "markdown",
   "id": "6595b122",
   "metadata": {},
   "source": [
    "As we can see, we get a warning saying that the algorithm failed to converge. To solve this issue, as suggested by *scikit* documentation, we just increment the number of maximum iterations. This will make the computation a little heavier, but our prediction will be more accurate."
   ]
  },
  {
   "cell_type": "code",
   "execution_count": 7,
   "id": "e4393163",
   "metadata": {},
   "outputs": [
    {
     "name": "stderr",
     "output_type": "stream",
     "text": [
      "/home/giovanni/anaconda3/lib/python3.8/site-packages/sklearn/linear_model/_logistic.py:814: ConvergenceWarning:\n",
      "\n",
      "lbfgs failed to converge (status=1):\n",
      "STOP: TOTAL NO. of ITERATIONS REACHED LIMIT.\n",
      "\n",
      "Increase the number of iterations (max_iter) or scale the data as shown in:\n",
      "    https://scikit-learn.org/stable/modules/preprocessing.html\n",
      "Please also refer to the documentation for alternative solver options:\n",
      "    https://scikit-learn.org/stable/modules/linear_model.html#logistic-regression\n",
      "\n"
     ]
    },
    {
     "data": {
      "text/plain": [
       "LogisticRegression(max_iter=10000, random_state=45)"
      ]
     },
     "execution_count": 7,
     "metadata": {},
     "output_type": "execute_result"
    }
   ],
   "source": [
    "LR = LogisticRegression(random_state = 45, max_iter=10000)\n",
    "LR.fit(splitted['ant'][0],splitted['ant'][2])"
   ]
  },
  {
   "cell_type": "markdown",
   "id": "e6758985",
   "metadata": {},
   "source": [
    "The next step is to compute a prediction based on our *X test* data"
   ]
  },
  {
   "cell_type": "code",
   "execution_count": 8,
   "id": "40e96fc2",
   "metadata": {},
   "outputs": [
    {
     "name": "stdout",
     "output_type": "stream",
     "text": [
      "0: 137\n",
      "1: 3\n"
     ]
    }
   ],
   "source": [
    "y_pred = LR.predict(splitted['ant'][1])\n",
    "print(f'0: {(y_pred == 0).sum()}\\n1: {(y_pred == 1).sum()}')"
   ]
  },
  {
   "cell_type": "markdown",
   "id": "00a8379c",
   "metadata": {},
   "source": [
    "Here are the results: our model predicted **136 classes without defects** and **79 defected classes**. Although, we don't know if this prediction is accurate or not. In order to discover it, we will compare this results with the real values included in the *Y test* set through the so called **confusion matrix**:"
   ]
  },
  {
   "cell_type": "code",
   "execution_count": 9,
   "id": "cb8e8310",
   "metadata": {
    "scrolled": true
   },
   "outputs": [
    {
     "data": {
      "image/png": "[encoded data removed]",
      "text/plain": [
       "<Figure size 432x288 with 2 Axes>"
      ]
     },
     "metadata": {
      "needs_background": "light"
     },
     "output_type": "display_data"
    }
   ],
   "source": [
    "ant_confusion = confusion_matrix(splitted['ant'][3], y_pred)\n",
    "plot_confusion_matrix(ant_confusion)"
   ]
  },
  {
   "cell_type": "code",
   "execution_count": 10,
   "id": "907f2a58",
   "metadata": {},
   "outputs": [
    {
     "name": "stdout",
     "output_type": "stream",
     "text": [
      "              precision    recall  f1-score   support\n",
      "\n",
      "         0.0       0.82      0.98      0.89       114\n",
      "         1.0       0.33      0.05      0.08        21\n",
      "         2.0       0.25      0.20      0.22         5\n",
      "         3.0       0.00      0.00      0.00         4\n",
      "         4.0       1.00      0.25      0.40         4\n",
      "         5.0       0.50      1.00      0.67         1\n",
      "         6.0       0.00      0.00      0.00         0\n",
      "         8.0       0.00      0.00      0.00         0\n",
      "\n",
      "    accuracy                           0.78       149\n",
      "   macro avg       0.36      0.31      0.28       149\n",
      "weighted avg       0.71      0.78      0.72       149\n",
      "\n"
     ]
    },
    {
     "name": "stderr",
     "output_type": "stream",
     "text": [
      "/home/giovanni/anaconda3/lib/python3.8/site-packages/sklearn/metrics/_classification.py:1308: UndefinedMetricWarning:\n",
      "\n",
      "Precision and F-score are ill-defined and being set to 0.0 in labels with no predicted samples. Use `zero_division` parameter to control this behavior.\n",
      "\n",
      "/home/giovanni/anaconda3/lib/python3.8/site-packages/sklearn/metrics/_classification.py:1308: UndefinedMetricWarning:\n",
      "\n",
      "Recall and F-score are ill-defined and being set to 0.0 in labels with no true samples. Use `zero_division` parameter to control this behavior.\n",
      "\n",
      "/home/giovanni/anaconda3/lib/python3.8/site-packages/sklearn/metrics/_classification.py:1308: UndefinedMetricWarning:\n",
      "\n",
      "Precision and F-score are ill-defined and being set to 0.0 in labels with no predicted samples. Use `zero_division` parameter to control this behavior.\n",
      "\n",
      "/home/giovanni/anaconda3/lib/python3.8/site-packages/sklearn/metrics/_classification.py:1308: UndefinedMetricWarning:\n",
      "\n",
      "Recall and F-score are ill-defined and being set to 0.0 in labels with no true samples. Use `zero_division` parameter to control this behavior.\n",
      "\n",
      "/home/giovanni/anaconda3/lib/python3.8/site-packages/sklearn/metrics/_classification.py:1308: UndefinedMetricWarning:\n",
      "\n",
      "Precision and F-score are ill-defined and being set to 0.0 in labels with no predicted samples. Use `zero_division` parameter to control this behavior.\n",
      "\n",
      "/home/giovanni/anaconda3/lib/python3.8/site-packages/sklearn/metrics/_classification.py:1308: UndefinedMetricWarning:\n",
      "\n",
      "Recall and F-score are ill-defined and being set to 0.0 in labels with no true samples. Use `zero_division` parameter to control this behavior.\n",
      "\n"
     ]
    }
   ],
   "source": [
    "print(classification_report(splitted['ant'][3], y_pred))"
   ]
  },
  {
   "cell_type": "code",
   "execution_count": 11,
   "id": "28e82082",
   "metadata": {},
   "outputs": [
    {
     "ename": "ValueError",
     "evalue": "multiclass format is not supported",
     "output_type": "error",
     "traceback": [
      "\u001b[0;31m---------------------------------------------------------------------------\u001b[0m",
      "\u001b[0;31mValueError\u001b[0m                                Traceback (most recent call last)",
      "\u001b[0;32m/tmp/ipykernel_48902/2088546172.py\u001b[0m in \u001b[0;36m<module>\u001b[0;34m\u001b[0m\n\u001b[1;32m      1\u001b[0m \u001b[0my_pred_prob\u001b[0m \u001b[0;34m=\u001b[0m \u001b[0mLR\u001b[0m\u001b[0;34m.\u001b[0m\u001b[0mpredict_proba\u001b[0m\u001b[0;34m(\u001b[0m\u001b[0msplitted\u001b[0m\u001b[0;34m[\u001b[0m\u001b[0;34m'ant'\u001b[0m\u001b[0;34m]\u001b[0m\u001b[0;34m[\u001b[0m\u001b[0;36m1\u001b[0m\u001b[0;34m]\u001b[0m\u001b[0;34m)\u001b[0m\u001b[0;34m[\u001b[0m\u001b[0;34m:\u001b[0m\u001b[0;34m:\u001b[0m\u001b[0;34m,\u001b[0m\u001b[0;36m1\u001b[0m\u001b[0;34m]\u001b[0m\u001b[0;34m\u001b[0m\u001b[0;34m\u001b[0m\u001b[0m\n\u001b[0;32m----> 2\u001b[0;31m \u001b[0mplot_roc\u001b[0m\u001b[0;34m(\u001b[0m\u001b[0msplitted\u001b[0m\u001b[0;34m[\u001b[0m\u001b[0;34m'ant'\u001b[0m\u001b[0;34m]\u001b[0m\u001b[0;34m[\u001b[0m\u001b[0;36m3\u001b[0m\u001b[0;34m]\u001b[0m\u001b[0;34m,\u001b[0m \u001b[0my_pred_prob\u001b[0m\u001b[0;34m)\u001b[0m\u001b[0;34m\u001b[0m\u001b[0;34m\u001b[0m\u001b[0m\n\u001b[0m",
      "\u001b[0;32m/tmp/ipykernel_48902/1659965140.py\u001b[0m in \u001b[0;36mplot_roc\u001b[0;34m(y_test, y_pred_prob)\u001b[0m\n\u001b[1;32m      1\u001b[0m \u001b[0;32mdef\u001b[0m \u001b[0mplot_roc\u001b[0m\u001b[0;34m(\u001b[0m\u001b[0my_test\u001b[0m\u001b[0;34m,\u001b[0m \u001b[0my_pred_prob\u001b[0m\u001b[0;34m)\u001b[0m\u001b[0;34m:\u001b[0m\u001b[0;34m\u001b[0m\u001b[0;34m\u001b[0m\u001b[0m\n\u001b[0;32m----> 2\u001b[0;31m     \u001b[0mfpr\u001b[0m\u001b[0;34m,\u001b[0m \u001b[0mtpr\u001b[0m\u001b[0;34m,\u001b[0m \u001b[0m_\u001b[0m \u001b[0;34m=\u001b[0m \u001b[0mroc_curve\u001b[0m\u001b[0;34m(\u001b[0m\u001b[0my_test\u001b[0m\u001b[0;34m,\u001b[0m \u001b[0my_pred\u001b[0m\u001b[0;34m)\u001b[0m\u001b[0;34m\u001b[0m\u001b[0;34m\u001b[0m\u001b[0m\n\u001b[0m\u001b[1;32m      3\u001b[0m     \u001b[0mplt\u001b[0m\u001b[0;34m.\u001b[0m\u001b[0mplot\u001b[0m\u001b[0;34m(\u001b[0m\u001b[0mfpr\u001b[0m\u001b[0;34m,\u001b[0m\u001b[0mtpr\u001b[0m\u001b[0;34m)\u001b[0m\u001b[0;34m\u001b[0m\u001b[0;34m\u001b[0m\u001b[0m\n\u001b[1;32m      4\u001b[0m     \u001b[0mplt\u001b[0m\u001b[0;34m.\u001b[0m\u001b[0mxlabel\u001b[0m\u001b[0;34m(\u001b[0m\u001b[0;34m'FPR'\u001b[0m\u001b[0;34m)\u001b[0m\u001b[0;34m\u001b[0m\u001b[0;34m\u001b[0m\u001b[0m\n\u001b[1;32m      5\u001b[0m     \u001b[0mplt\u001b[0m\u001b[0;34m.\u001b[0m\u001b[0mylabel\u001b[0m\u001b[0;34m(\u001b[0m\u001b[0;34m'TPR'\u001b[0m\u001b[0;34m)\u001b[0m\u001b[0;34m\u001b[0m\u001b[0;34m\u001b[0m\u001b[0m\n",
      "\u001b[0;32m~/anaconda3/lib/python3.8/site-packages/sklearn/metrics/_ranking.py\u001b[0m in \u001b[0;36mroc_curve\u001b[0;34m(y_true, y_score, pos_label, sample_weight, drop_intermediate)\u001b[0m\n\u001b[1;32m    960\u001b[0m \u001b[0;34m\u001b[0m\u001b[0m\n\u001b[1;32m    961\u001b[0m     \"\"\"\n\u001b[0;32m--> 962\u001b[0;31m     fps, tps, thresholds = _binary_clf_curve(\n\u001b[0m\u001b[1;32m    963\u001b[0m         \u001b[0my_true\u001b[0m\u001b[0;34m,\u001b[0m \u001b[0my_score\u001b[0m\u001b[0;34m,\u001b[0m \u001b[0mpos_label\u001b[0m\u001b[0;34m=\u001b[0m\u001b[0mpos_label\u001b[0m\u001b[0;34m,\u001b[0m \u001b[0msample_weight\u001b[0m\u001b[0;34m=\u001b[0m\u001b[0msample_weight\u001b[0m\u001b[0;34m\u001b[0m\u001b[0;34m\u001b[0m\u001b[0m\n\u001b[1;32m    964\u001b[0m     )\n",
      "\u001b[0;32m~/anaconda3/lib/python3.8/site-packages/sklearn/metrics/_ranking.py\u001b[0m in \u001b[0;36m_binary_clf_curve\u001b[0;34m(y_true, y_score, pos_label, sample_weight)\u001b[0m\n\u001b[1;32m    729\u001b[0m     \u001b[0my_type\u001b[0m \u001b[0;34m=\u001b[0m \u001b[0mtype_of_target\u001b[0m\u001b[0;34m(\u001b[0m\u001b[0my_true\u001b[0m\u001b[0;34m)\u001b[0m\u001b[0;34m\u001b[0m\u001b[0;34m\u001b[0m\u001b[0m\n\u001b[1;32m    730\u001b[0m     \u001b[0;32mif\u001b[0m \u001b[0;32mnot\u001b[0m \u001b[0;34m(\u001b[0m\u001b[0my_type\u001b[0m \u001b[0;34m==\u001b[0m \u001b[0;34m\"binary\"\u001b[0m \u001b[0;32mor\u001b[0m \u001b[0;34m(\u001b[0m\u001b[0my_type\u001b[0m \u001b[0;34m==\u001b[0m \u001b[0;34m\"multiclass\"\u001b[0m \u001b[0;32mand\u001b[0m \u001b[0mpos_label\u001b[0m \u001b[0;32mis\u001b[0m \u001b[0;32mnot\u001b[0m \u001b[0;32mNone\u001b[0m\u001b[0;34m)\u001b[0m\u001b[0;34m)\u001b[0m\u001b[0;34m:\u001b[0m\u001b[0;34m\u001b[0m\u001b[0;34m\u001b[0m\u001b[0m\n\u001b[0;32m--> 731\u001b[0;31m         \u001b[0;32mraise\u001b[0m \u001b[0mValueError\u001b[0m\u001b[0;34m(\u001b[0m\u001b[0;34m\"{0} format is not supported\"\u001b[0m\u001b[0;34m.\u001b[0m\u001b[0mformat\u001b[0m\u001b[0;34m(\u001b[0m\u001b[0my_type\u001b[0m\u001b[0;34m)\u001b[0m\u001b[0;34m)\u001b[0m\u001b[0;34m\u001b[0m\u001b[0;34m\u001b[0m\u001b[0m\n\u001b[0m\u001b[1;32m    732\u001b[0m \u001b[0;34m\u001b[0m\u001b[0m\n\u001b[1;32m    733\u001b[0m     \u001b[0mcheck_consistent_length\u001b[0m\u001b[0;34m(\u001b[0m\u001b[0my_true\u001b[0m\u001b[0;34m,\u001b[0m \u001b[0my_score\u001b[0m\u001b[0;34m,\u001b[0m \u001b[0msample_weight\u001b[0m\u001b[0;34m)\u001b[0m\u001b[0;34m\u001b[0m\u001b[0;34m\u001b[0m\u001b[0m\n",
      "\u001b[0;31mValueError\u001b[0m: multiclass format is not supported"
     ]
    }
   ],
   "source": [
    "y_pred_prob = LR.predict_proba(splitted['ant'][1])[::,1]\n",
    "plot_roc(splitted['ant'][3], y_pred_prob)"
   ]
  },
  {
   "cell_type": "code",
   "execution_count": 16,
   "id": "c60ce8cf",
   "metadata": {},
   "outputs": [
    {
     "name": "stdout",
     "output_type": "stream",
     "text": [
      "0.717213621279238\n"
     ]
    }
   ],
   "source": [
    "#auc = roc_auc_score(splitted['ant'][3], y_pred, average ='weighted')\n",
    "f1 = f1_score(splitted['ant'][3], y_pred, average ='weighted')\n",
    "#print('AUC: %f\\nF1: %f' %(auc, f1))\n",
    "print(f1)"
   ]
  },
  {
   "cell_type": "markdown",
   "id": "08aade22",
   "metadata": {},
   "source": [
    "Let's now run Logistic Regression for each dataset and compute the scores"
   ]
  },
  {
   "cell_type": "code",
   "execution_count": 17,
   "id": "b1cf7e7c",
   "metadata": {},
   "outputs": [
    {
     "name": "stderr",
     "output_type": "stream",
     "text": [
      "/home/giovanni/anaconda3/lib/python3.8/site-packages/sklearn/linear_model/_logistic.py:814: ConvergenceWarning:\n",
      "\n",
      "lbfgs failed to converge (status=1):\n",
      "STOP: TOTAL NO. of ITERATIONS REACHED LIMIT.\n",
      "\n",
      "Increase the number of iterations (max_iter) or scale the data as shown in:\n",
      "    https://scikit-learn.org/stable/modules/preprocessing.html\n",
      "Please also refer to the documentation for alternative solver options:\n",
      "    https://scikit-learn.org/stable/modules/linear_model.html#logistic-regression\n",
      "\n",
      "/home/giovanni/anaconda3/lib/python3.8/site-packages/sklearn/linear_model/_logistic.py:814: ConvergenceWarning:\n",
      "\n",
      "lbfgs failed to converge (status=1):\n",
      "STOP: TOTAL NO. of ITERATIONS REACHED LIMIT.\n",
      "\n",
      "Increase the number of iterations (max_iter) or scale the data as shown in:\n",
      "    https://scikit-learn.org/stable/modules/preprocessing.html\n",
      "Please also refer to the documentation for alternative solver options:\n",
      "    https://scikit-learn.org/stable/modules/linear_model.html#logistic-regression\n",
      "\n",
      "/home/giovanni/anaconda3/lib/python3.8/site-packages/sklearn/linear_model/_logistic.py:814: ConvergenceWarning:\n",
      "\n",
      "lbfgs failed to converge (status=1):\n",
      "STOP: TOTAL NO. of ITERATIONS REACHED LIMIT.\n",
      "\n",
      "Increase the number of iterations (max_iter) or scale the data as shown in:\n",
      "    https://scikit-learn.org/stable/modules/preprocessing.html\n",
      "Please also refer to the documentation for alternative solver options:\n",
      "    https://scikit-learn.org/stable/modules/linear_model.html#logistic-regression\n",
      "\n",
      "/home/giovanni/anaconda3/lib/python3.8/site-packages/sklearn/linear_model/_logistic.py:814: ConvergenceWarning:\n",
      "\n",
      "lbfgs failed to converge (status=1):\n",
      "STOP: TOTAL NO. of ITERATIONS REACHED LIMIT.\n",
      "\n",
      "Increase the number of iterations (max_iter) or scale the data as shown in:\n",
      "    https://scikit-learn.org/stable/modules/preprocessing.html\n",
      "Please also refer to the documentation for alternative solver options:\n",
      "    https://scikit-learn.org/stable/modules/linear_model.html#logistic-regression\n",
      "\n",
      "/home/giovanni/anaconda3/lib/python3.8/site-packages/sklearn/linear_model/_logistic.py:814: ConvergenceWarning:\n",
      "\n",
      "lbfgs failed to converge (status=1):\n",
      "STOP: TOTAL NO. of ITERATIONS REACHED LIMIT.\n",
      "\n",
      "Increase the number of iterations (max_iter) or scale the data as shown in:\n",
      "    https://scikit-learn.org/stable/modules/preprocessing.html\n",
      "Please also refer to the documentation for alternative solver options:\n",
      "    https://scikit-learn.org/stable/modules/linear_model.html#logistic-regression\n",
      "\n",
      "/home/giovanni/anaconda3/lib/python3.8/site-packages/sklearn/linear_model/_logistic.py:814: ConvergenceWarning:\n",
      "\n",
      "lbfgs failed to converge (status=1):\n",
      "STOP: TOTAL NO. of ITERATIONS REACHED LIMIT.\n",
      "\n",
      "Increase the number of iterations (max_iter) or scale the data as shown in:\n",
      "    https://scikit-learn.org/stable/modules/preprocessing.html\n",
      "Please also refer to the documentation for alternative solver options:\n",
      "    https://scikit-learn.org/stable/modules/linear_model.html#logistic-regression\n",
      "\n",
      "/home/giovanni/anaconda3/lib/python3.8/site-packages/sklearn/linear_model/_logistic.py:814: ConvergenceWarning:\n",
      "\n",
      "lbfgs failed to converge (status=1):\n",
      "STOP: TOTAL NO. of ITERATIONS REACHED LIMIT.\n",
      "\n",
      "Increase the number of iterations (max_iter) or scale the data as shown in:\n",
      "    https://scikit-learn.org/stable/modules/preprocessing.html\n",
      "Please also refer to the documentation for alternative solver options:\n",
      "    https://scikit-learn.org/stable/modules/linear_model.html#logistic-regression\n",
      "\n",
      "/home/giovanni/anaconda3/lib/python3.8/site-packages/sklearn/linear_model/_logistic.py:814: ConvergenceWarning:\n",
      "\n",
      "lbfgs failed to converge (status=1):\n",
      "STOP: TOTAL NO. of ITERATIONS REACHED LIMIT.\n",
      "\n",
      "Increase the number of iterations (max_iter) or scale the data as shown in:\n",
      "    https://scikit-learn.org/stable/modules/preprocessing.html\n",
      "Please also refer to the documentation for alternative solver options:\n",
      "    https://scikit-learn.org/stable/modules/linear_model.html#logistic-regression\n",
      "\n"
     ]
    }
   ],
   "source": [
    "for key in names:\n",
    "    LR = LogisticRegression(max_iter=10000,random_state=45)\n",
    "    LR.fit(splitted[key][0],splitted[key][2])\n",
    "    y_pred = LR.predict(splitted[key][1])\n",
    "    #compute_scores('LR', key, auc_scores, f1_scores)\n",
    "    f1 = f1_score(splitted[key][3], y_pred, average='weighted')\n",
    "    f1_scores['LR'].append(f1)"
   ]
  },
  {
   "cell_type": "code",
   "execution_count": null,
   "id": "95588dd2",
   "metadata": {},
   "outputs": [],
   "source": [
    "pd.Series(auc_scores['LR'], index = names)"
   ]
  },
  {
   "cell_type": "code",
   "execution_count": 18,
   "id": "3e849333",
   "metadata": {},
   "outputs": [
    {
     "data": {
      "text/plain": [
       "ant         0.717214\n",
       "camel       0.715039\n",
       "ivy         0.779049\n",
       "jedit       0.693016\n",
       "log4j       0.654608\n",
       "tomcat      0.927345\n",
       "velocity    0.572464\n",
       "xalan       0.702907\n",
       "xerces      0.801795\n",
       "dtype: float64"
      ]
     },
     "execution_count": 18,
     "metadata": {},
     "output_type": "execute_result"
    }
   ],
   "source": [
    "pd.Series(f1_scores['LR'], index = names)"
   ]
  },
  {
   "cell_type": "code",
   "execution_count": null,
   "id": "80c219d2",
   "metadata": {},
   "outputs": [],
   "source": [
    "boxplot_single_model_scores('LR')"
   ]
  },
  {
   "cell_type": "markdown",
   "id": "875957c5",
   "metadata": {},
   "source": [
    "### 4. Naive Bayes classifier<a id='nb'>"
   ]
  },
  {
   "cell_type": "markdown",
   "id": "dd4d9854",
   "metadata": {},
   "source": [
    "Naive Bayes is a classification algorithm that works based on the Bayes theorem:\n",
    "\n",
    "$P(A|B) = \\frac{P(B|A)*P(A)}{P(B)}$\n",
    "\n",
    "and uses this probability in order to construct the classifiers."
   ]
  },
  {
   "cell_type": "code",
   "execution_count": null,
   "id": "9aa9115e",
   "metadata": {},
   "outputs": [],
   "source": [
    "from sklearn.naive_bayes import GaussianNB\n",
    "NB = GaussianNB()"
   ]
  },
  {
   "cell_type": "code",
   "execution_count": null,
   "id": "5306f56d",
   "metadata": {},
   "outputs": [],
   "source": [
    "for key in names:\n",
    "    NB.fit(splitted[key][0],splitted[key][2])\n",
    "    y_pred = NB.predict(splitted[key][1])\n",
    "    compute_scores('NB', key, auc_scores, f1_scores)"
   ]
  },
  {
   "cell_type": "code",
   "execution_count": null,
   "id": "bd5140b1",
   "metadata": {},
   "outputs": [],
   "source": [
    "boxplot_single_model_scores('NB')"
   ]
  },
  {
   "cell_type": "markdown",
   "id": "12b1e1ff",
   "metadata": {},
   "source": [
    "### 5. K-Nearest Neighbor<a id='knn'>"
   ]
  },
  {
   "cell_type": "markdown",
   "id": "90b51970",
   "metadata": {},
   "source": [
    "Noe we will run k-Nearest Neighbor algorithm"
   ]
  },
  {
   "cell_type": "code",
   "execution_count": null,
   "id": "c2fa1852",
   "metadata": {},
   "outputs": [],
   "source": [
    "from sklearn.neighbors import KNeighborsClassifier"
   ]
  },
  {
   "cell_type": "markdown",
   "id": "0cc61c41",
   "metadata": {},
   "source": [
    "Let's try kNN on `ant`"
   ]
  },
  {
   "cell_type": "code",
   "execution_count": null,
   "id": "eaca865e",
   "metadata": {},
   "outputs": [],
   "source": [
    "KNN = KNeighborsClassifier()\n",
    "KNN.fit(splitted['ant'][0],splitted['ant'][2])\n",
    "y_pred = KNN.predict(splitted['ant'][1])\n",
    "auc = roc_auc_score(splitted['ant'][3], y_pred, average ='weighted')\n",
    "f1 = f1_score(splitted['ant'][3], y_pred, average ='weighted')\n",
    "print('AUC: %f\\nF1: %f' %(auc, f1))"
   ]
  },
  {
   "cell_type": "markdown",
   "id": "69d176ae",
   "metadata": {},
   "source": [
    "##### k Parameter\n",
    "A very important parameter in k-Nearest Neighbors is *k*, that is the number of neighbors of a point. It is an *hyperparameter*, which means it is a characteristics that is external to the model and cannot be derived by training.\n",
    "\n",
    "Default *k* in the related *scikit* function is 5, but we don't know if it is the optimal value.\n",
    "\n",
    "Thankfully, *scikit* provides an *hyperparameter optimization tool*, called **GridSearch**. GridSearch runs the algorithm with different hyperparameters and finds the one that best fits to the model. Of course, on the other side it can require a lot of computational resources.\n",
    "\n",
    "\n",
    "Let's try to use **GridSearch to find the optimal k and improve the performance of the model**"
   ]
  },
  {
   "cell_type": "code",
   "execution_count": null,
   "id": "dbee8a9c",
   "metadata": {},
   "outputs": [],
   "source": [
    "from sklearn.model_selection import GridSearchCV"
   ]
  },
  {
   "cell_type": "code",
   "execution_count": null,
   "id": "8e0a2c95",
   "metadata": {},
   "outputs": [],
   "source": [
    "parameters = {\"n_neighbors\": range(1,10)}\n",
    "gridsearch = GridSearchCV(KNN, parameters)"
   ]
  },
  {
   "cell_type": "code",
   "execution_count": null,
   "id": "8618c100",
   "metadata": {},
   "outputs": [],
   "source": [
    "neighbors = dict()\n",
    "for key in names:\n",
    "    gridsearch.fit(splitted[key][0],splitted[key][2])\n",
    "    neighbors[key] = gridsearch.best_params_.get('n_neighbors')\n",
    "neighbors"
   ]
  },
  {
   "cell_type": "markdown",
   "id": "a37a4470",
   "metadata": {},
   "source": [
    "So, now let's retry to run KNN on `ant`, now with the optimal *k*"
   ]
  },
  {
   "cell_type": "code",
   "execution_count": null,
   "id": "6c1ef31d",
   "metadata": {},
   "outputs": [],
   "source": [
    "KNN = KNeighborsClassifier(neighbors.get('ant'))\n",
    "KNN.fit(splitted['ant'][0],splitted['ant'][2])\n",
    "y_pred = KNN.predict(splitted['ant'][1])\n",
    "auc = roc_auc_score(splitted['ant'][3], y_pred, average ='weighted')\n",
    "f1 = f1_score(splitted['ant'][3], y_pred, average ='weighted')\n",
    "print('AUCC: %f\\nF1: %f' %(auc, f1))"
   ]
  },
  {
   "cell_type": "markdown",
   "id": "1944fa8f",
   "metadata": {},
   "source": [
    "As a result, scores improved in a very strong way"
   ]
  },
  {
   "cell_type": "markdown",
   "id": "bfbacd8a",
   "metadata": {},
   "source": [
    "So now we can **run kNN on the rest of the datasets** and observe the results"
   ]
  },
  {
   "cell_type": "code",
   "execution_count": null,
   "id": "75956e5e",
   "metadata": {},
   "outputs": [],
   "source": [
    "for key in names:\n",
    "    KNN = KNeighborsClassifier(n_neighbors = neighbors.get(key))\n",
    "    KNN.fit(splitted[key][0],splitted[key][2])\n",
    "    y_pred = KNN.predict(splitted[key][1])\n",
    "    compute_scores('KNN', key, auc_scores, f1_scores)"
   ]
  },
  {
   "cell_type": "code",
   "execution_count": null,
   "id": "b9d77865",
   "metadata": {},
   "outputs": [],
   "source": [
    "boxplot_single_model_scores('KNN')"
   ]
  },
  {
   "cell_type": "markdown",
   "id": "4fcb78de",
   "metadata": {},
   "source": [
    "### 6. Neural Network<a id='nn'>"
   ]
  },
  {
   "cell_type": "markdown",
   "id": "15eb3f98",
   "metadata": {},
   "source": [
    "To perform analysis with Neural Networks we will use **MLPC (Multi-layer perceptron classifier)**"
   ]
  },
  {
   "cell_type": "code",
   "execution_count": null,
   "id": "2356c29b",
   "metadata": {},
   "outputs": [],
   "source": [
    "from sklearn.neural_network import MLPClassifier"
   ]
  },
  {
   "cell_type": "code",
   "execution_count": null,
   "id": "57586f9e",
   "metadata": {},
   "outputs": [],
   "source": [
    "NN = MLPClassifier()\n",
    "NN.fit(splitted['ant'][0],splitted['ant'][2])\n",
    "y_pred = NN.predict(splitted['ant'][1])\n",
    "auc = roc_auc_score(splitted['ant'][3], y_pred, average ='weighted')\n",
    "f1 = f1_score(splitted['ant'][3], y_pred, average ='weighted')\n",
    "print('AUCC: %f\\nF1: %f' %(auc, f1))"
   ]
  },
  {
   "cell_type": "code",
   "execution_count": null,
   "id": "41ff84e4",
   "metadata": {},
   "outputs": [],
   "source": [
    "for key in names:\n",
    "    NN = MLPClassifier(max_iter = 2000)\n",
    "    NN.fit(splitted[key][0], splitted[key][2])\n",
    "    y_pred = NN.predict(splitted[key][1])\n",
    "    compute_scores('NN', key, auc_scores, f1_scores)"
   ]
  },
  {
   "cell_type": "code",
   "execution_count": null,
   "id": "9443e3de",
   "metadata": {},
   "outputs": [],
   "source": [
    "boxplot_single_model_scores('NN')"
   ]
  },
  {
   "cell_type": "markdown",
   "id": "4bd07ce5",
   "metadata": {},
   "source": [
    "### 7. Support Vector Machines<a id='svm'>"
   ]
  },
  {
   "cell_type": "code",
   "execution_count": null,
   "id": "76850316",
   "metadata": {},
   "outputs": [],
   "source": [
    "from sklearn.svm import SVC"
   ]
  },
  {
   "cell_type": "code",
   "execution_count": null,
   "id": "1e050dba",
   "metadata": {},
   "outputs": [],
   "source": [
    "SVM = SVC()\n",
    "SVM.fit(splitted['ant'][0],splitted['ant'][2])\n",
    "y_pred = SVM.predict(splitted['ant'][1])\n",
    "auc = roc_auc_score(splitted['ant'][3], y_pred, average ='weighted')\n",
    "f1 = f1_score(splitted['ant'][3], y_pred, average ='weighted')\n",
    "print('AUC: %f\\nF1: %f' %(auc, f1))"
   ]
  },
  {
   "cell_type": "code",
   "execution_count": null,
   "id": "b4ab6641",
   "metadata": {},
   "outputs": [],
   "source": [
    "for key in names:\n",
    "    SVM.fit(splitted[key][0],splitted[key][2])\n",
    "    y_pred = SVM.predict(splitted[key][1])\n",
    "    compute_scores('SVM', key, auc_scores, f1_scores)"
   ]
  },
  {
   "cell_type": "code",
   "execution_count": null,
   "id": "831e111c",
   "metadata": {},
   "outputs": [],
   "source": [
    "boxplot_single_model_scores('NN')"
   ]
  },
  {
   "cell_type": "markdown",
   "id": "74f8c308",
   "metadata": {},
   "source": [
    "### 8. Decision Trees<a id='dt'>"
   ]
  },
  {
   "cell_type": "markdown",
   "id": "0b95b571",
   "metadata": {},
   "source": [
    "Now we will analyze data using Decision Trees. Decision Trees have an important *hyperparameter*, that is the criterion for splitting the nodes, which can be *Gini* or *entropy*. We will decide wich one to use by using GridSearch, as before."
   ]
  },
  {
   "cell_type": "code",
   "execution_count": null,
   "id": "506088bb",
   "metadata": {},
   "outputs": [],
   "source": [
    "from sklearn import tree\n",
    "from sklearn.tree import DecisionTreeClassifier"
   ]
  },
  {
   "cell_type": "code",
   "execution_count": null,
   "id": "d56247cd",
   "metadata": {},
   "outputs": [],
   "source": [
    "DT = DecisionTreeClassifier()\n",
    "DT.fit(splitted['ant'][0],splitted['ant'][2])\n",
    "y_pred = DT.predict(splitted['ant'][1])\n",
    "auc = roc_auc_score(splitted['ant'][3], y_pred, average ='weighted')\n",
    "f1 = f1_score(splitted['ant'][3], y_pred, average ='weighted')\n",
    "print('AUC: %f\\nF1: %f' %(auc, f1))"
   ]
  },
  {
   "cell_type": "code",
   "execution_count": null,
   "id": "8d8ce187",
   "metadata": {
    "scrolled": false
   },
   "outputs": [],
   "source": [
    "def plot_decision_tree(decisionTree, fileName):\n",
    "    plt.figure(figsize=(30,15))\n",
    "    tree.plot_tree(DT, filled = True, feature_names = list(ant.columns))\n",
    "    savefig(fileName)\n",
    "    plt.show()\n",
    "    \n",
    "plot_decision_tree(DT, 'ant_decision_tree')"
   ]
  },
  {
   "cell_type": "code",
   "execution_count": null,
   "id": "136bb703",
   "metadata": {},
   "outputs": [],
   "source": [
    "parameters = {\"criterion\": ['gini','entropy']}\n",
    "gridsearch = GridSearchCV(DT, parameters)"
   ]
  },
  {
   "cell_type": "code",
   "execution_count": null,
   "id": "45d386d9",
   "metadata": {},
   "outputs": [],
   "source": [
    "criteria = dict()\n",
    "for key in names:\n",
    "    gridsearch.fit(splitted['ant'][0],splitted['ant'][2])\n",
    "    criteria[key] = gridsearch.best_params_.get('criterion')\n",
    "criteria"
   ]
  },
  {
   "cell_type": "code",
   "execution_count": null,
   "id": "4467b5d2",
   "metadata": {},
   "outputs": [],
   "source": [
    "for key in names:\n",
    "    DT = DecisionTreeClassifier(criterion=criteria.get(key))\n",
    "    DT.fit(splitted[key][0],splitted[key][2])\n",
    "    y_pred = DT.predict(splitted[key][1])\n",
    "    compute_scores('DT', key, auc_scores, f1_scores)"
   ]
  },
  {
   "cell_type": "code",
   "execution_count": null,
   "id": "3d09a479",
   "metadata": {},
   "outputs": [],
   "source": [
    "boxplot_single_model_scores('SVM')"
   ]
  },
  {
   "cell_type": "markdown",
   "id": "30d3022a",
   "metadata": {},
   "source": [
    "### 9. Random Forest<a id='rf'>"
   ]
  },
  {
   "cell_type": "code",
   "execution_count": null,
   "id": "fdc12040",
   "metadata": {},
   "outputs": [],
   "source": [
    "from sklearn.ensemble import RandomForestClassifier"
   ]
  },
  {
   "cell_type": "code",
   "execution_count": null,
   "id": "98589a7c",
   "metadata": {},
   "outputs": [],
   "source": [
    "RF = RandomForestClassifier()\n",
    "RF.fit(splitted['ant'][0],splitted['ant'][2])\n",
    "y_pred = RF.predict(splitted['ant'][1])\n",
    "auc = roc_auc_score(splitted['ant'][3], y_pred, average ='weighted')\n",
    "f1 = f1_score(splitted['ant'][3], y_pred, average ='weighted')\n",
    "print('AUC: %f\\nF1: %f' %(auc, f1))"
   ]
  },
  {
   "cell_type": "code",
   "execution_count": null,
   "id": "abe8b918",
   "metadata": {},
   "outputs": [],
   "source": [
    "for key in names:\n",
    "    RF = RandomForestClassifier(criterion=criteria.get(key))\n",
    "    RF.fit(splitted[key][0],splitted[key][2])\n",
    "    y_pred = RF.predict(splitted[key][1])\n",
    "    compute_scores('RF', key, auc_scores, f1_scores)"
   ]
  },
  {
   "cell_type": "code",
   "execution_count": null,
   "id": "08326fa7",
   "metadata": {},
   "outputs": [],
   "source": [
    "boxplot_single_model_scores('RF')"
   ]
  },
  {
   "cell_type": "markdown",
   "id": "891245fa",
   "metadata": {},
   "source": [
    "### 10. XGBoost<a id='xgb'>"
   ]
  },
  {
   "cell_type": "markdown",
   "id": "dfe5f226",
   "metadata": {},
   "source": [
    "XGBoost stands for *eXtreme Gradient Boosting*"
   ]
  },
  {
   "cell_type": "markdown",
   "id": "34bd5ee2",
   "metadata": {},
   "source": [
    "**REMEMBER: INSTALL OF XGBOOST LIBRARY NEEDED**"
   ]
  },
  {
   "cell_type": "code",
   "execution_count": null,
   "id": "7ef196e8",
   "metadata": {},
   "outputs": [],
   "source": [
    "from xgboost import XGBClassifier"
   ]
  },
  {
   "cell_type": "code",
   "execution_count": null,
   "id": "cb8071b8",
   "metadata": {},
   "outputs": [],
   "source": [
    "XGB = XGBClassifier(use_label_encoder=False, eval_metric = 'logloss')\n",
    "XGB.fit(splitted['ant'][0],splitted['ant'][2])\n",
    "y_pred = XGB.predict(splitted['ant'][1])\n",
    "auc = roc_auc_score(splitted['ant'][3], y_pred, average ='weighted')\n",
    "f1 = f1_score(splitted['ant'][3], y_pred, average ='weighted')\n",
    "print('AUC: %f\\nF1: %f' %(auc, f1))"
   ]
  },
  {
   "cell_type": "code",
   "execution_count": null,
   "id": "02b8d583",
   "metadata": {},
   "outputs": [],
   "source": [
    "for key in names:\n",
    "    XGB.fit(splitted[key][0],splitted[key][2])\n",
    "    y_pred = XGB.predict(splitted[key][1])\n",
    "    compute_scores('XGB', key, auc_scores, f1_scores)"
   ]
  },
  {
   "cell_type": "code",
   "execution_count": null,
   "id": "1188590c",
   "metadata": {},
   "outputs": [],
   "source": [
    "boxplot_single_model_scores('XGB')"
   ]
  }
 ],
 "metadata": {
  "kernelspec": {
   "display_name": "Python 3 (ipykernel)",
   "language": "python",
   "name": "python3"
  },
  "language_info": {
   "codemirror_mode": {
    "name": "ipython",
    "version": 3
   },
   "file_extension": ".py",
   "mimetype": "text/x-python",
   "name": "python",
   "nbconvert_exporter": "python",
   "pygments_lexer": "ipython3",
   "version": "3.8.8"
  }
 },
 "nbformat": 4,
 "nbformat_minor": 5
}
