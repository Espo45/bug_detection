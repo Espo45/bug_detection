{
 "cells": [
  {
   "cell_type": "markdown",
   "id": "a57b7e4f",
   "metadata": {},
   "source": [
    "## Importing libraries"
   ]
  },
  {
   "cell_type": "code",
   "execution_count": 1,
   "id": "4c89ff11",
   "metadata": {},
   "outputs": [],
   "source": [
    "# System\n",
    "import sys\n",
    "import os\n",
    "import time\n",
    "import random\n",
    "\n",
    "# Data Science\n",
    "import numpy as np\n",
    "from numpy.random import rand\n",
    "from numpy.random import randn\n",
    "import pandas as pd\n",
    "\n",
    "# MatPlotLib and other graphical tools\n",
    "%matplotlib inline\n",
    "import matplotlib as mpl\n",
    "import matplotlib.pyplot as plt\n",
    "import matplotlib.image as mpimg\n",
    "import seaborn as sns\n",
    "import plotly.express as px\n",
    "from plotly.offline import iplot\n",
    "\n",
    "\n",
    "# Machine Learning metrics\n",
    "import sklearn\n",
    "from sklearn.metrics import confusion_matrix, classification_report, roc_curve, roc_auc_score, f1_score"
   ]
  },
  {
   "cell_type": "markdown",
   "id": "53e977e4",
   "metadata": {},
   "source": [
    "## Setting directories"
   ]
  },
  {
   "cell_type": "code",
   "execution_count": 2,
   "id": "f011c0c1",
   "metadata": {},
   "outputs": [],
   "source": [
    "ROOT_DIR = '../'\n",
    "\n",
    "CONF_PATH = os.path.join(ROOT_DIR, \"conf\")\n",
    "os.makedirs(CONF_PATH, exist_ok=True)\n",
    "\n",
    "DATA_PATH = os.path.join(ROOT_DIR, \"data\")\n",
    "os.makedirs(DATA_PATH, exist_ok=True)\n",
    "\n",
    "RESULTS_PATH = os.path.join(ROOT_DIR, \"results\")\n",
    "os.makedirs(RESULTS_PATH, exist_ok=True)\n",
    "\n",
    "FIGURES_PATH = os.path.join(ROOT_DIR, \"figures\")\n",
    "os.makedirs(FIGURES_PATH, exist_ok=True)\n",
    "\n",
    "TABLES_PATH = os.path.join(ROOT_DIR, \"tables\")\n",
    "os.makedirs(FIGURES_PATH, exist_ok=True)\n"
   ]
  },
  {
   "cell_type": "markdown",
   "id": "91beefb1",
   "metadata": {},
   "source": [
    "## Defining functions for saving files"
   ]
  },
  {
   "cell_type": "code",
   "execution_count": 3,
   "id": "73736f46",
   "metadata": {},
   "outputs": [],
   "source": [
    "def savefig(figId, extension='png', res=300, tight=True, folder_path = FIGURES_PATH):\n",
    "    path = os.path.join(folder_path, figId + '.' + extension)\n",
    "    if tight:\n",
    "        plt.tight_layout()\n",
    "    plt.savefig(path, format=extension, dpi=res)\n",
    "    \n",
    "def savecsv(dataFrame, fileName, sep=',', folder_path = TABLES_PATH):\n",
    "    path = os.path.join(folder_path, fileName + '.csv')\n",
    "    dataFrame.to_csv(path, sep=sep)"
   ]
  },
  {
   "cell_type": "markdown",
   "id": "20112828",
   "metadata": {},
   "source": [
    "## Defining functions for plots"
   ]
  },
  {
   "cell_type": "code",
   "execution_count": 4,
   "id": "ed5dec55",
   "metadata": {},
   "outputs": [],
   "source": [
    "def plot_roc(y_test, y_pred_prob):\n",
    "    fpr, tpr, _ = roc_curve(y_test, y_pred)\n",
    "    plt.plot(fpr,tpr)\n",
    "    plt.xlabel('FPR')\n",
    "    plt.ylabel('TPR')\n",
    "    plt.show()\n",
    "    \n",
    "def plot_confusion_matrix(cnf_matrix):\n",
    "    class_names=[0,1] # name  of classes\n",
    "    fig, ax = plt.subplots()\n",
    "    tick_marks = np.arange(len(class_names))\n",
    "    plt.xticks(tick_marks, class_names)\n",
    "    plt.yticks(tick_marks, class_names)\n",
    "    sns.heatmap(pd.DataFrame(cnf_matrix), annot=True, cmap=\"YlGnBu\" ,fmt='g')\n",
    "    ax.xaxis.set_label_position(\"top\")\n",
    "    plt.tight_layout()\n",
    "    plt.title('Confusion matrix', y=1.1)\n",
    "    plt.ylabel('Actual label')\n",
    "    plt.xlabel('Predicted label')\n",
    "    \n",
    "def boxplot_single_model_scores(model):\n",
    "    df = pd.concat(\n",
    "        [pd.Series(auc_scores[model], index = names), pd.Series(f1_scores[model], index = names)],\n",
    "        axis=1,\n",
    "        keys=['AUC','F1']\n",
    "    )\n",
    "    plt.figure(figsize=(15,5))\n",
    "    sns.boxplot(data=df, orient='horizontal')\n",
    "    plt.xlim((0.4,1))\n",
    "    plt.show()\n"
   ]
  },
  {
   "cell_type": "code",
   "execution_count": null,
   "id": "ea9eaf18",
   "metadata": {},
   "outputs": [],
   "source": []
  }
 ],
 "metadata": {
  "kernelspec": {
   "display_name": "Python 3 (ipykernel)",
   "language": "python",
   "name": "python3"
  },
  "language_info": {
   "codemirror_mode": {
    "name": "ipython",
    "version": 3
   },
   "file_extension": ".py",
   "mimetype": "text/x-python",
   "name": "python",
   "nbconvert_exporter": "python",
   "pygments_lexer": "ipython3",
   "version": "3.8.8"
  }
 },
 "nbformat": 4,
 "nbformat_minor": 5
}
