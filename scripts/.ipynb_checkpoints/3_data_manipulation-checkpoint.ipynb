{
 "cells": [
  {
   "cell_type": "markdown",
   "id": "b51ae8e4",
   "metadata": {},
   "source": [
    "# Data manipulation\n",
    "***"
   ]
  },
  {
   "cell_type": "markdown",
   "id": "24fc5664",
   "metadata": {},
   "source": [
    "0. [Loading the data](#load)\n",
    "1. [Introduction](#intro)\n",
    "1. [Turning defects into a dichotomous variable](#dich)\n",
    "1. [Splitting the data](#split)"
   ]
  },
  {
   "cell_type": "markdown",
   "id": "cb5ce22e",
   "metadata": {},
   "source": [
    " ### 0. Loading the data<a id='load'>"
   ]
  },
  {
   "cell_type": "markdown",
   "id": "060f1f5d",
   "metadata": {},
   "source": [
    "To load our data, we just run the <a href='loading_data.ipynb'>script we created for the purpose</a>"
   ]
  },
  {
   "cell_type": "code",
   "execution_count": 1,
   "id": "4cc82d52",
   "metadata": {},
   "outputs": [],
   "source": [
    "%%capture \n",
    "%run 1_loading_data.ipynb"
   ]
  },
  {
   "cell_type": "markdown",
   "id": "fd8dd52e",
   "metadata": {},
   "source": [
    "### 1. Introduction"
   ]
  },
  {
   "cell_type": "markdown",
   "id": "8072a992",
   "metadata": {},
   "source": [
    "A very important step in data analysis is data manipulation. Manipulation is the process of changing the data, in order to make it more readable and usable. In our <a href='eda.ipynb'>explorative data analysis</a>, we've seen that our datasets are strongly imbalanced on the 0. In this section, we will turn `defects` into a **dichotomous variable**, admitting just two values: <ul><li><b>0</b> for classes without defects</li><li><b>1</b> for classes that present one or more defects</li></ul>"
   ]
  },
  {
   "cell_type": "markdown",
   "id": "1dcabef3",
   "metadata": {},
   "source": [
    "### 2. Turning defects into a dichotomous variable<a id='dich'>"
   ]
  },
  {
   "cell_type": "markdown",
   "id": "e83ff2c4",
   "metadata": {},
   "source": [
    "Let's start by defining a function that, taken a DataFrame as input, returns the same DataFrame in which the values of `defects > 1` has been turned into `1`"
   ]
  },
  {
   "cell_type": "code",
   "execution_count": 2,
   "id": "99a35831",
   "metadata": {},
   "outputs": [],
   "source": [
    "def transform_defects(dataFrame):\n",
    "    to_change = dataFrame[dataFrame['defects']>=2].index\n",
    "    for index in to_change:\n",
    "        dataFrame['defects'][index] = 1.0\n",
    "    return dataFrame"
   ]
  },
  {
   "cell_type": "markdown",
   "id": "45493de8",
   "metadata": {},
   "source": [
    "Now we can transform our datasets:"
   ]
  },
  {
   "cell_type": "code",
   "execution_count": 3,
   "id": "792f744b",
   "metadata": {},
   "outputs": [],
   "source": [
    "for key in names:\n",
    "    datasets[key] = transform_defects(datasets[key])"
   ]
  },
  {
   "cell_type": "markdown",
   "id": "df9f28e0",
   "metadata": {},
   "source": [
    "Let's explore the transformed datasets:"
   ]
  },
  {
   "cell_type": "code",
   "execution_count": 4,
   "id": "c93f1ed1",
   "metadata": {},
   "outputs": [],
   "source": [
    "def plot_zero_one(datasets, names, fileName):\n",
    "    bars = len(names)\n",
    "    plt.figure(figsize=(15,7))\n",
    "    x_pos = np.arange(bars)\n",
    "    heigths = [[],[]]\n",
    "\n",
    "    for key in names:\n",
    "        for i in (0,1):\n",
    "            heigths[i].append(datasets[key]['defects'].value_counts()[i])\n",
    "\n",
    "    plt.bar(x_pos - 0.2, heigths[0], 0.4, label = '0', color='#55CC55', edgecolor='black')\n",
    "    plt.bar(x_pos + 0.2, heigths[1], 0.4, label = '1', color='#AA3333', edgecolor='black')\n",
    "\n",
    "    plt.xticks(x_pos, names)\n",
    "    plt.xlabel(\"Dataset\")\n",
    "    plt.ylabel(\"Classes\")\n",
    "    plt.title(\"Defected classes\")\n",
    "    plt.legend()\n",
    "    savefig(fileName)\n",
    "    plt.show()"
   ]
  },
  {
   "cell_type": "code",
   "execution_count": 5,
   "id": "ff3b3c92",
   "metadata": {},
   "outputs": [
    {
     "data": {
      "image/png": "[encoded data removed]",
      "text/plain": [
       "<Figure size 1080x504 with 1 Axes>"
      ]
     },
     "metadata": {
      "needs_background": "light"
     },
     "output_type": "display_data"
    }
   ],
   "source": [
    "plot_zero_one(datasets, names, 'defect_distribution_in_transformed_data')"
   ]
  },
  {
   "cell_type": "markdown",
   "id": "45050ed1",
   "metadata": {},
   "source": [
    "As we can see, now `defects` assumes only 0 (standing for `False`)  and 1 (standing for `True`). This makes the prediction of presence of defective classes more reliable than before"
   ]
  },
  {
   "cell_type": "markdown",
   "id": "c71f02cb",
   "metadata": {},
   "source": [
    "### 3. Splitting the data<a href='split'>"
   ]
  },
  {
   "cell_type": "markdown",
   "id": "034d20af",
   "metadata": {},
   "source": [
    "Our need, now, is to **split** each dataset into 2 parts: one for *training* and one for *testing*.\n",
    "\n",
    "The *training* set will be used by our models to learn the way to make the prediction, while the *testing* set will be used to evaluate the models' performances.\n",
    "An appropriate ratio could be `80%-20%`."
   ]
  },
  {
   "cell_type": "markdown",
   "id": "0ff26b49",
   "metadata": {},
   "source": [
    "Let's define a function that will help us to split datasets faster:"
   ]
  },
  {
   "cell_type": "code",
   "execution_count": 6,
   "id": "c606ed08",
   "metadata": {},
   "outputs": [],
   "source": [
    "from sklearn.model_selection import train_test_split\n",
    "def split(dataFrame):\n",
    "    y = dataFrame.defects\n",
    "    x = dataFrame.drop('defects', axis=1)\n",
    "    x_train, x_test, y_train, y_test = train_test_split(x,y,test_size=0.2, random_state=45)\n",
    "    return x_train, x_test, y_train, y_test"
   ]
  },
  {
   "cell_type": "markdown",
   "id": "db2c9f79",
   "metadata": {},
   "source": [
    "First of all, our function will remove the variable to predict (in our case, `defects`) from the dataset, and assign it to a new set `Y`, while `X` will now be the **original dataset without `defects`**. Then, it will split `X` and `Y` into 2 parts, one for training and one for testing. As a result, it will create 4 new variables per each dataset:\n",
    "<ul>\n",
    "    <li>X train</li>\n",
    "    <li>X test</li>\n",
    "    <li>Y train</li>\n",
    "    <li>Y test</li>\n",
    "</ul>"
   ]
  },
  {
   "cell_type": "markdown",
   "id": "66a5f895",
   "metadata": {},
   "source": [
    "We decide to store our splitted sets into 4 new dictionaries, structured as\n",
    "\n",
    "`dataset: splitted set`\n",
    "\n",
    "As before, the main reason we use this method is practical: later, we will need to repeat the same operations for every dataset, and, this way, we will be able to use loops."
   ]
  },
  {
   "cell_type": "code",
   "execution_count": 7,
   "id": "1fde1486",
   "metadata": {},
   "outputs": [],
   "source": [
    "X_train = dict()\n",
    "X_test = dict()\n",
    "y_train = dict()\n",
    "y_test = dict()\n",
    "\n",
    "for key in names:\n",
    "    xtrain, xtest, ytrain, ytest = split(datasets[key])\n",
    "    X_train[key] = xtrain\n",
    "    X_test[key] = xtest\n",
    "    y_train[key] = ytrain\n",
    "    y_test[key] = ytest"
   ]
  },
  {
   "cell_type": "markdown",
   "id": "d7bb2e27",
   "metadata": {},
   "source": [
    "First of all, let's see the lenght of our new sets:"
   ]
  },
  {
   "cell_type": "code",
   "execution_count": 8,
   "id": "b86a1cc3",
   "metadata": {},
   "outputs": [
    {
     "data": {
      "text/html": [
       "<div>\n",
       "<style scoped>\n",
       "    .dataframe tbody tr th:only-of-type {\n",
       "        vertical-align: middle;\n",
       "    }\n",
       "\n",
       "    .dataframe tbody tr th {\n",
       "        vertical-align: top;\n",
       "    }\n",
       "\n",
       "    .dataframe thead th {\n",
       "        text-align: right;\n",
       "    }\n",
       "</style>\n",
       "<table border=\"1\" class=\"dataframe\">\n",
       "  <thead>\n",
       "    <tr style=\"text-align: right;\">\n",
       "      <th></th>\n",
       "      <th>ant</th>\n",
       "      <th>camel</th>\n",
       "      <th>jedit</th>\n",
       "      <th>log4j</th>\n",
       "      <th>tomcat</th>\n",
       "      <th>velocity</th>\n",
       "      <th>xalan</th>\n",
       "      <th>xerces</th>\n",
       "    </tr>\n",
       "  </thead>\n",
       "  <tbody>\n",
       "    <tr>\n",
       "      <th>Training set</th>\n",
       "      <td>596</td>\n",
       "      <td>697</td>\n",
       "      <td>244</td>\n",
       "      <td>108</td>\n",
       "      <td>686</td>\n",
       "      <td>183</td>\n",
       "      <td>578</td>\n",
       "      <td>362</td>\n",
       "    </tr>\n",
       "    <tr>\n",
       "      <th>Testing set</th>\n",
       "      <td>149</td>\n",
       "      <td>175</td>\n",
       "      <td>62</td>\n",
       "      <td>27</td>\n",
       "      <td>172</td>\n",
       "      <td>46</td>\n",
       "      <td>145</td>\n",
       "      <td>91</td>\n",
       "    </tr>\n",
       "  </tbody>\n",
       "</table>\n",
       "</div>"
      ],
      "text/plain": [
       "              ant  camel  jedit  log4j  tomcat  velocity  xalan  xerces\n",
       "Training set  596    697    244    108     686       183    578     362\n",
       "Testing set   149    175     62     27     172        46    145      91"
      ]
     },
     "execution_count": 8,
     "metadata": {},
     "output_type": "execute_result"
    }
   ],
   "source": [
    "lengths_matrix = []\n",
    "for key in names:\n",
    "    length = []\n",
    "    for set in (X_train, X_test):\n",
    "        length.append(len(set[key]))\n",
    "    lengths_matrix.append(length)\n",
    "\n",
    "lengths_matrix = pd.DataFrame(lengths_matrix).transpose()\n",
    "lengths_matrix.index = ['Training set','Testing set']\n",
    "lengths_matrix.columns = list(datasets.keys())\n",
    "\n",
    "lengths_matrix"
   ]
  },
  {
   "cell_type": "markdown",
   "id": "621dfbe6",
   "metadata": {},
   "source": [
    "As we can see, our function assigned the 80% of the obs. to the training sets, and 20% to the testing sets."
   ]
  },
  {
   "cell_type": "markdown",
   "id": "6c8404eb",
   "metadata": {},
   "source": [
    "Let's explore `ant` to see how did it work:"
   ]
  },
  {
   "cell_type": "code",
   "execution_count": 9,
   "id": "8f5881fa",
   "metadata": {},
   "outputs": [
    {
     "data": {
      "text/html": [
       "<div>\n",
       "<style scoped>\n",
       "    .dataframe tbody tr th:only-of-type {\n",
       "        vertical-align: middle;\n",
       "    }\n",
       "\n",
       "    .dataframe tbody tr th {\n",
       "        vertical-align: top;\n",
       "    }\n",
       "\n",
       "    .dataframe thead th {\n",
       "        text-align: right;\n",
       "    }\n",
       "</style>\n",
       "<table border=\"1\" class=\"dataframe\">\n",
       "  <thead>\n",
       "    <tr style=\"text-align: right;\">\n",
       "      <th></th>\n",
       "      <th>wmc</th>\n",
       "      <th>dit</th>\n",
       "      <th>noc</th>\n",
       "      <th>cbo</th>\n",
       "      <th>rfc</th>\n",
       "      <th>lcom</th>\n",
       "      <th>ca</th>\n",
       "      <th>ce</th>\n",
       "      <th>npm</th>\n",
       "      <th>lcom3</th>\n",
       "      <th>loc</th>\n",
       "      <th>dam</th>\n",
       "      <th>moa</th>\n",
       "      <th>mfa</th>\n",
       "      <th>cam</th>\n",
       "      <th>ic</th>\n",
       "      <th>cbm</th>\n",
       "      <th>amc</th>\n",
       "      <th>max_cc</th>\n",
       "      <th>avg_cc</th>\n",
       "    </tr>\n",
       "  </thead>\n",
       "  <tbody>\n",
       "    <tr>\n",
       "      <th>549</th>\n",
       "      <td>20.0</td>\n",
       "      <td>3.0</td>\n",
       "      <td>0.0</td>\n",
       "      <td>9.0</td>\n",
       "      <td>46.0</td>\n",
       "      <td>160.0</td>\n",
       "      <td>0.0</td>\n",
       "      <td>9.0</td>\n",
       "      <td>17.0</td>\n",
       "      <td>0.859649</td>\n",
       "      <td>206.0</td>\n",
       "      <td>1.0</td>\n",
       "      <td>0.0</td>\n",
       "      <td>0.672727</td>\n",
       "      <td>0.263158</td>\n",
       "      <td>1.0</td>\n",
       "      <td>1.0</td>\n",
       "      <td>9.000000</td>\n",
       "      <td>2.0</td>\n",
       "      <td>1.0500</td>\n",
       "    </tr>\n",
       "    <tr>\n",
       "      <th>143</th>\n",
       "      <td>7.0</td>\n",
       "      <td>3.0</td>\n",
       "      <td>0.0</td>\n",
       "      <td>9.0</td>\n",
       "      <td>39.0</td>\n",
       "      <td>1.0</td>\n",
       "      <td>0.0</td>\n",
       "      <td>9.0</td>\n",
       "      <td>7.0</td>\n",
       "      <td>0.708333</td>\n",
       "      <td>260.0</td>\n",
       "      <td>1.0</td>\n",
       "      <td>2.0</td>\n",
       "      <td>0.860465</td>\n",
       "      <td>0.285714</td>\n",
       "      <td>2.0</td>\n",
       "      <td>2.0</td>\n",
       "      <td>35.571429</td>\n",
       "      <td>1.0</td>\n",
       "      <td>0.8571</td>\n",
       "    </tr>\n",
       "    <tr>\n",
       "      <th>6</th>\n",
       "      <td>20.0</td>\n",
       "      <td>1.0</td>\n",
       "      <td>0.0</td>\n",
       "      <td>4.0</td>\n",
       "      <td>40.0</td>\n",
       "      <td>130.0</td>\n",
       "      <td>0.0</td>\n",
       "      <td>4.0</td>\n",
       "      <td>18.0</td>\n",
       "      <td>0.736842</td>\n",
       "      <td>345.0</td>\n",
       "      <td>1.0</td>\n",
       "      <td>1.0</td>\n",
       "      <td>0.000000</td>\n",
       "      <td>0.284211</td>\n",
       "      <td>0.0</td>\n",
       "      <td>0.0</td>\n",
       "      <td>15.900000</td>\n",
       "      <td>3.0</td>\n",
       "      <td>1.1500</td>\n",
       "    </tr>\n",
       "    <tr>\n",
       "      <th>176</th>\n",
       "      <td>39.0</td>\n",
       "      <td>1.0</td>\n",
       "      <td>0.0</td>\n",
       "      <td>21.0</td>\n",
       "      <td>94.0</td>\n",
       "      <td>461.0</td>\n",
       "      <td>11.0</td>\n",
       "      <td>11.0</td>\n",
       "      <td>33.0</td>\n",
       "      <td>0.786842</td>\n",
       "      <td>559.0</td>\n",
       "      <td>1.0</td>\n",
       "      <td>6.0</td>\n",
       "      <td>0.000000</td>\n",
       "      <td>0.153846</td>\n",
       "      <td>0.0</td>\n",
       "      <td>0.0</td>\n",
       "      <td>13.076923</td>\n",
       "      <td>7.0</td>\n",
       "      <td>1.6923</td>\n",
       "    </tr>\n",
       "    <tr>\n",
       "      <th>145</th>\n",
       "      <td>1.0</td>\n",
       "      <td>1.0</td>\n",
       "      <td>0.0</td>\n",
       "      <td>1.0</td>\n",
       "      <td>1.0</td>\n",
       "      <td>0.0</td>\n",
       "      <td>1.0</td>\n",
       "      <td>0.0</td>\n",
       "      <td>1.0</td>\n",
       "      <td>2.000000</td>\n",
       "      <td>2.0</td>\n",
       "      <td>0.0</td>\n",
       "      <td>0.0</td>\n",
       "      <td>0.000000</td>\n",
       "      <td>1.000000</td>\n",
       "      <td>0.0</td>\n",
       "      <td>0.0</td>\n",
       "      <td>0.000000</td>\n",
       "      <td>1.0</td>\n",
       "      <td>1.0000</td>\n",
       "    </tr>\n",
       "  </tbody>\n",
       "</table>\n",
       "</div>"
      ],
      "text/plain": [
       "      wmc  dit  noc   cbo   rfc   lcom    ca    ce   npm     lcom3    loc  \\\n",
       "549  20.0  3.0  0.0   9.0  46.0  160.0   0.0   9.0  17.0  0.859649  206.0   \n",
       "143   7.0  3.0  0.0   9.0  39.0    1.0   0.0   9.0   7.0  0.708333  260.0   \n",
       "6    20.0  1.0  0.0   4.0  40.0  130.0   0.0   4.0  18.0  0.736842  345.0   \n",
       "176  39.0  1.0  0.0  21.0  94.0  461.0  11.0  11.0  33.0  0.786842  559.0   \n",
       "145   1.0  1.0  0.0   1.0   1.0    0.0   1.0   0.0   1.0  2.000000    2.0   \n",
       "\n",
       "     dam  moa       mfa       cam   ic  cbm        amc  max_cc  avg_cc  \n",
       "549  1.0  0.0  0.672727  0.263158  1.0  1.0   9.000000     2.0  1.0500  \n",
       "143  1.0  2.0  0.860465  0.285714  2.0  2.0  35.571429     1.0  0.8571  \n",
       "6    1.0  1.0  0.000000  0.284211  0.0  0.0  15.900000     3.0  1.1500  \n",
       "176  1.0  6.0  0.000000  0.153846  0.0  0.0  13.076923     7.0  1.6923  \n",
       "145  0.0  0.0  0.000000  1.000000  0.0  0.0   0.000000     1.0  1.0000  "
      ]
     },
     "execution_count": 9,
     "metadata": {},
     "output_type": "execute_result"
    }
   ],
   "source": [
    "X_train['ant'].head() # head of ant X train "
   ]
  },
  {
   "cell_type": "markdown",
   "id": "40db5ab2",
   "metadata": {},
   "source": [
    "We can notice how `defects` has been dropped from the rest of the set."
   ]
  },
  {
   "cell_type": "code",
   "execution_count": 10,
   "id": "a1098bed",
   "metadata": {},
   "outputs": [
    {
     "data": {
      "text/plain": [
       "0.0    464\n",
       "1.0    132\n",
       "Name: defects, dtype: int64"
      ]
     },
     "execution_count": 10,
     "metadata": {},
     "output_type": "execute_result"
    }
   ],
   "source": [
    "y_train['ant'].value_counts() #value counts of ant Y train"
   ]
  },
  {
   "cell_type": "code",
   "execution_count": 11,
   "id": "76156c74",
   "metadata": {},
   "outputs": [
    {
     "data": {
      "text/plain": [
       "549    1.0\n",
       "143    1.0\n",
       "6      1.0\n",
       "176    0.0\n",
       "145    0.0\n",
       "Name: defects, dtype: float64"
      ]
     },
     "execution_count": 11,
     "metadata": {},
     "output_type": "execute_result"
    }
   ],
   "source": [
    "y_train['ant'].head()"
   ]
  },
  {
   "cell_type": "markdown",
   "id": "c78aaec3",
   "metadata": {},
   "source": [
    "Now we are ready to perform the analysis"
   ]
  }
 ],
 "metadata": {
  "kernelspec": {
   "display_name": "Python 3 (ipykernel)",
   "language": "python",
   "name": "python3"
  },
  "language_info": {
   "codemirror_mode": {
    "name": "ipython",
    "version": 3
   },
   "file_extension": ".py",
   "mimetype": "text/x-python",
   "name": "python",
   "nbconvert_exporter": "python",
   "pygments_lexer": "ipython3",
   "version": "3.8.8"
  }
 },
 "nbformat": 4,
 "nbformat_minor": 5
}
