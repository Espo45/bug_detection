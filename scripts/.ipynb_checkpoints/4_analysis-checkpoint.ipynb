{
 "cells": [
  {
   "cell_type": "markdown",
   "id": "8ec3eeb4",
   "metadata": {},
   "source": [
    "# Analysis\n",
    "***"
   ]
  },
  {
   "cell_type": "markdown",
   "id": "996bb3e2",
   "metadata": {},
   "source": [
    "0. [Loading data](#load)\n",
    "1. [Introduction](#intro)\n",
    "1. [Scores dictionaries](#scores)\n",
    "1. [Logistic regression](#lr)\n",
    "1. [Naive Bayes](#nb)\n",
    "1. [K-Nearest Neighbor](#knn)\n",
    "1. [Neural Network](#nn)\n",
    "1. [Support Vector Machine](#svm)\n",
    "1. [Decision Trees](#dt)\n",
    "1. [Random Forest](#rf)\n",
    "1. [XG-Boost](#xgb)"
   ]
  },
  {
   "cell_type": "markdown",
   "id": "0c03b7ae",
   "metadata": {},
   "source": [
    "### 0. Loading data<a id='load'>"
   ]
  },
  {
   "cell_type": "markdown",
   "id": "badc6ac3",
   "metadata": {},
   "source": [
    "To load our data, we will just run the <a href='3_data_manipulation.ipynb'>data manipulation script</a>."
   ]
  },
  {
   "cell_type": "code",
   "execution_count": 1,
   "id": "0e53bd70",
   "metadata": {},
   "outputs": [],
   "source": [
    "%%capture\n",
    "%run 3_data_manipulation.ipynb"
   ]
  },
  {
   "cell_type": "markdown",
   "id": "51bb2f78",
   "metadata": {},
   "source": [
    "### 1. Introduction<a id='intro'>"
   ]
  },
  {
   "cell_type": "markdown",
   "id": "af1421e2",
   "metadata": {},
   "source": [
    "In this section, we will finally perform the analysis on our data. As said before, one of the main goals of this work is to evaluate the performance of different well-known data science algorithms, in order to find which one is the best for predicting software defects. \n",
    "\n",
    "We will use 7 state-of-the-art classifiers, and then we will try to build an unbiased model based on XG-Boost. So, the algorithms we will use are the following:\n",
    "\n",
    "<ul>\n",
    "    <li>Logistic Regression</li>\n",
    "    <li>Naive Bayes</li>\n",
    "    <li>K-Nearest Neighbor</li>\n",
    "    <li>Neural Network</li>\n",
    "    <li>Support Vector Machine</li>\n",
    "    <li>Decision Trees</li>\n",
    "    <li>Random Forest</li>\n",
    "    <li>XG-Boost</li>\n",
    "</ul>\n",
    "\n",
    "After that, we will get our conclusions by comparing two scores: **AUC** and **F1**"
   ]
  },
  {
   "cell_type": "markdown",
   "id": "8b5e7dd6",
   "metadata": {},
   "source": [
    "   #### 1.1 AUC"
   ]
  },
  {
   "cell_type": "markdown",
   "id": "7a214c3c",
   "metadata": {},
   "source": [
    "To explain better what AUC is, we first need to introduce the concept of **ROC curve**."
   ]
  },
  {
   "cell_type": "markdown",
   "id": "bf744436",
   "metadata": {},
   "source": [
    "The Receiving Operating Charactheristic (ROC) curve is a graph that shows how a model performs among all the possibile thresholds. This graphs consider two values: the **False Positive rate** on the X axis, and the **True Positive rate** on the Y axis. It basically plots the two rates at different thresholds. A ROC curve usually has a behaviour like this:"
   ]
  },
  {
   "cell_type": "code",
   "execution_count": 2,
   "id": "3f01f244",
   "metadata": {},
   "outputs": [
    {
     "data": {
      "image/png": "[encoded data removed]",
      "text/plain": [
       "<Figure size 432x288 with 1 Axes>"
      ]
     },
     "metadata": {
      "needs_background": "light"
     },
     "output_type": "display_data"
    }
   ],
   "source": [
    "x = np.linspace(0,1,1000)\n",
    "y = x**(1/4) #this does NOT mean that TPR equals to FPR ^ 1/4. This graph is just explanatory.\n",
    "plt.plot(x, y)\n",
    "plt.xlabel('FPR')\n",
    "plt.ylabel('TPR')\n",
    "plt.show()"
   ]
  },
  {
   "cell_type": "markdown",
   "id": "5320e2ba",
   "metadata": {},
   "source": [
    "The **Area Under the Curve (AUC)** is basically the area between the ROC curve and the X axis.\n",
    "Given that TPR and FPR are both included in the interval [0,1], the definite integral of the ROC curve (that is, in fact, the AUC) will also be a value between 0 and 1."
   ]
  },
  {
   "cell_type": "markdown",
   "id": "e1d15df9",
   "metadata": {},
   "source": [
    "#### 1.2 F1 score"
   ]
  },
  {
   "cell_type": "markdown",
   "id": "0ab6066f",
   "metadata": {},
   "source": [
    "The F1 score is a measure computed by the use of two other well-known measures: **precision** and **recall**.\n",
    "\n",
    "**Precision** is the accuracy of positive values predictions. It is defined as"
   ]
  },
  {
   "cell_type": "markdown",
   "id": "a20ed035",
   "metadata": {},
   "source": [
    "*Precision =* $ \\frac{TP}{TP + FP} $\n",
    "\n",
    "where *TP* is the n. of true positives and *FP* the n. of false positives.\n",
    "\n",
    "It is clear that precision alone is not a reliable measure, because, ironically, a model that predicts positives with high cautiousness and returns many false negatives would have an high precision. This is why we need to use another measure too, that is recall."
   ]
  },
  {
   "cell_type": "markdown",
   "id": "536e4eac",
   "metadata": {},
   "source": [
    "**Recall** is the ratio of positive istances correctly detected by the model. It is defined as"
   ]
  },
  {
   "cell_type": "markdown",
   "id": "4af0776f",
   "metadata": {},
   "source": [
    "*Recall =* $\\frac{TP}{TP + FN}$\n",
    "\n",
    "where FN is, now, the n. of false negatives."
   ]
  },
  {
   "cell_type": "markdown",
   "id": "ecaaafb9",
   "metadata": {},
   "source": [
    "**F1 score** is simply a measure that **combines precision and recall**, and it is defined as their **harmonic mean**:"
   ]
  },
  {
   "cell_type": "markdown",
   "id": "2dd9bbdb",
   "metadata": {},
   "source": [
    "*F1 =* $\\frac{TP}{TP + \\frac{FP + FN}{2}}$"
   ]
  },
  {
   "cell_type": "markdown",
   "id": "fb6adf8e",
   "metadata": {},
   "source": [
    "As the AUC, F1 score is also included between 0 and 1."
   ]
  },
  {
   "cell_type": "markdown",
   "id": "f38aabc2",
   "metadata": {},
   "source": [
    "### 2. Scores dictionaries<a id='scores'>"
   ]
  },
  {
   "cell_type": "markdown",
   "id": "78eae8c6",
   "metadata": {},
   "source": [
    "We will store scores into 2 new dictionaries that we will call `auc_scores` and `f1_scores`, structured as:\n",
    "\n",
    "`{`\n",
    "\n",
    "`model`: `score`\n",
    "\n",
    "`}`"
   ]
  },
  {
   "cell_type": "code",
   "execution_count": 3,
   "id": "426a2fbb",
   "metadata": {},
   "outputs": [],
   "source": [
    "models = ['LR', 'NB', 'KNN', 'NN', 'SVM', 'DT', 'RF', 'XGB']\n",
    "auc_scores = dict()\n",
    "f1_scores = dict()\n",
    "for key in models:\n",
    "    auc_scores[key] = list()\n",
    "    f1_scores[key] = list()"
   ]
  },
  {
   "cell_type": "markdown",
   "id": "16348a0c",
   "metadata": {},
   "source": [
    "Later, we will have to compute, for each model, 9 AUCs and 9 F1 scores. We can define a function, in order to avoid to repeat the same code multiple times (we assume we'll use this function in a *for* loop)"
   ]
  },
  {
   "cell_type": "code",
   "execution_count": 4,
   "id": "164e368b",
   "metadata": {},
   "outputs": [],
   "source": [
    "def compute_scores(model, dataset, auc_scores, f1_scores):\n",
    "    auc = roc_auc_score(y_test[dataset], y_pred, average=\"weighted\")\n",
    "    auc_scores[model].append(auc)\n",
    "    f1 = f1_score(y_test[dataset], y_pred, average='weighted')\n",
    "    f1_scores[model].append(f1)"
   ]
  },
  {
   "cell_type": "markdown",
   "id": "f6b975bc",
   "metadata": {},
   "source": [
    "### 3. Logistic regression<a id='lr'>"
   ]
  },
  {
   "cell_type": "markdown",
   "id": "6c926209",
   "metadata": {},
   "source": [
    "As first, we will run a Logistic Regression algorithm"
   ]
  },
  {
   "cell_type": "code",
   "execution_count": 5,
   "id": "f84e43cd",
   "metadata": {},
   "outputs": [],
   "source": [
    "from sklearn.linear_model import LogisticRegression"
   ]
  },
  {
   "cell_type": "markdown",
   "id": "26fd5b56",
   "metadata": {},
   "source": [
    "In order to explore it, we will **try the model on `ant`**.\n",
    "\n",
    "First of all, let's define our model and fit it on `ant` data"
   ]
  },
  {
   "cell_type": "code",
   "execution_count": 6,
   "id": "0ed61d92",
   "metadata": {
    "scrolled": true
   },
   "outputs": [
    {
     "name": "stderr",
     "output_type": "stream",
     "text": [
      "/home/giovanni/anaconda3/lib/python3.8/site-packages/sklearn/linear_model/_logistic.py:814: ConvergenceWarning:\n",
      "\n",
      "lbfgs failed to converge (status=1):\n",
      "STOP: TOTAL NO. of ITERATIONS REACHED LIMIT.\n",
      "\n",
      "Increase the number of iterations (max_iter) or scale the data as shown in:\n",
      "    https://scikit-learn.org/stable/modules/preprocessing.html\n",
      "Please also refer to the documentation for alternative solver options:\n",
      "    https://scikit-learn.org/stable/modules/linear_model.html#logistic-regression\n",
      "\n"
     ]
    },
    {
     "data": {
      "text/plain": [
       "LogisticRegression()"
      ]
     },
     "execution_count": 6,
     "metadata": {},
     "output_type": "execute_result"
    }
   ],
   "source": [
    "LR = LogisticRegression()\n",
    "LR.fit(X_train['ant'], y_train['ant'])"
   ]
  },
  {
   "cell_type": "markdown",
   "id": "6595b122",
   "metadata": {},
   "source": [
    "As we can see, we get a warning saying that the algorithm failed to converge. To solve this issue, as suggested by *scikit* documentation, we just increment the number of maximum iterations. This will make the computation a little heavier, but our prediction will be more accurate."
   ]
  },
  {
   "cell_type": "code",
   "execution_count": 7,
   "id": "e4393163",
   "metadata": {},
   "outputs": [
    {
     "data": {
      "text/plain": [
       "LogisticRegression(max_iter=10000, random_state=45)"
      ]
     },
     "execution_count": 7,
     "metadata": {},
     "output_type": "execute_result"
    }
   ],
   "source": [
    "LR = LogisticRegression(random_state = 45, max_iter=10000)\n",
    "LR.fit(X_train['ant'], y_train['ant'])"
   ]
  },
  {
   "cell_type": "markdown",
   "id": "e6758985",
   "metadata": {},
   "source": [
    "The next step is to compute a prediction based on our *X test* data"
   ]
  },
  {
   "cell_type": "code",
   "execution_count": 8,
   "id": "40e96fc2",
   "metadata": {},
   "outputs": [
    {
     "name": "stdout",
     "output_type": "stream",
     "text": [
      "0: 127\n",
      "1: 22\n"
     ]
    }
   ],
   "source": [
    "y_pred = LR.predict(X_test['ant'])\n",
    "print(f'0: {(y_pred == 0).sum()}\\n1: {(y_pred == 1).sum()}')"
   ]
  },
  {
   "cell_type": "markdown",
   "id": "00a8379c",
   "metadata": {},
   "source": [
    "Here are the results: our model predicted **127 classes without defects** and **22 defected classes**. Although, we don't know if this prediction is accurate or not. In order to discover it, we will compare this results with the real values included in the *Y test* set through the so called **confusion matrix**:"
   ]
  },
  {
   "cell_type": "code",
   "execution_count": 9,
   "id": "cb8e8310",
   "metadata": {
    "scrolled": false
   },
   "outputs": [
    {
     "data": {
      "image/png": "[encoded data removed]",
      "text/plain": [
       "<Figure size 432x288 with 2 Axes>"
      ]
     },
     "metadata": {
      "needs_background": "light"
     },
     "output_type": "display_data"
    }
   ],
   "source": [
    "ant_confusion = confusion_matrix(y_test['ant'], y_pred)\n",
    "plot_confusion_matrix(ant_confusion)"
   ]
  },
  {
   "cell_type": "markdown",
   "id": "35927b62",
   "metadata": {},
   "source": [
    "As we can see from the confusion matrix, **108 of the 127 predicted 0s** and **15 of the 22 predicted 1s** are correct predictions, while the model generated **7 false positives** and **19 false negatives**. Starting from these values, the classification report can be built:"
   ]
  },
  {
   "cell_type": "code",
   "execution_count": 10,
   "id": "907f2a58",
   "metadata": {
    "scrolled": true
   },
   "outputs": [
    {
     "name": "stdout",
     "output_type": "stream",
     "text": [
      "              precision    recall  f1-score   support\n",
      "\n",
      "         0.0       0.85      0.94      0.89       115\n",
      "         1.0       0.68      0.44      0.54        34\n",
      "\n",
      "    accuracy                           0.83       149\n",
      "   macro avg       0.77      0.69      0.71       149\n",
      "weighted avg       0.81      0.83      0.81       149\n",
      "\n"
     ]
    }
   ],
   "source": [
    "print(classification_report(y_test['ant'], y_pred))"
   ]
  },
  {
   "cell_type": "markdown",
   "id": "2622a190",
   "metadata": {},
   "source": [
    "From classification report we understand a very important fact: as it is built now, Logistic Regression gives a pretty accurate prediction of 0 values, but a **very bad** one on 1 values."
   ]
  },
  {
   "cell_type": "markdown",
   "id": "2ee10a47",
   "metadata": {},
   "source": [
    "We can plot the **ROC Curve**"
   ]
  },
  {
   "cell_type": "code",
   "execution_count": 11,
   "id": "28e82082",
   "metadata": {},
   "outputs": [
    {
     "data": {
      "image/png": "[encoded data removed]",
      "text/plain": [
       "<Figure size 432x288 with 1 Axes>"
      ]
     },
     "metadata": {
      "needs_background": "light"
     },
     "output_type": "display_data"
    }
   ],
   "source": [
    "y_pred_prob = LR.predict_proba(X_test['ant'])[::,1]\n",
    "plot_roc(y_test['ant'], y_pred_prob)"
   ]
  },
  {
   "cell_type": "code",
   "execution_count": 12,
   "id": "c60ce8cf",
   "metadata": {},
   "outputs": [
    {
     "name": "stdout",
     "output_type": "stream",
     "text": [
      "AUC: 0.690153\n",
      "F1: 0.811134\n"
     ]
    }
   ],
   "source": [
    "auc = roc_auc_score(y_test['ant'], y_pred, average ='weighted')\n",
    "f1 = f1_score(y_test['ant'], y_pred, average ='weighted')\n",
    "print('AUC: %f\\nF1: %f' %(auc, f1))"
   ]
  },
  {
   "cell_type": "markdown",
   "id": "2f466bd4",
   "metadata": {},
   "source": [
    "How to interpret these scores? The AUC we obtained is **not** a good score, considering that we are working with *supervised* classifiers. The reason is, probably, the imbalance of the data, that has a strongly superior presence of undefected classes respect to defected ones. F1 is better, but still not great."
   ]
  },
  {
   "cell_type": "markdown",
   "id": "08aade22",
   "metadata": {},
   "source": [
    "Let's now run Logistic Regression for each dataset and compute the scores"
   ]
  },
  {
   "cell_type": "code",
   "execution_count": 13,
   "id": "b1cf7e7c",
   "metadata": {},
   "outputs": [],
   "source": [
    "for key in names:\n",
    "    LR = LogisticRegression(max_iter=10000,random_state=45)\n",
    "    LR.fit(X_train[key], y_train[key])\n",
    "    y_pred = LR.predict(X_test[key])\n",
    "    compute_scores('LR', key, auc_scores, f1_scores)"
   ]
  },
  {
   "cell_type": "code",
   "execution_count": 14,
   "id": "95588dd2",
   "metadata": {},
   "outputs": [
    {
     "data": {
      "text/plain": [
       "ant         0.690153\n",
       "camel       0.509164\n",
       "jedit       0.713705\n",
       "log4j       0.684783\n",
       "tomcat      0.575381\n",
       "velocity    0.649510\n",
       "xalan       0.563364\n",
       "xerces      0.623377\n",
       "dtype: float64"
      ]
     },
     "execution_count": 14,
     "metadata": {},
     "output_type": "execute_result"
    }
   ],
   "source": [
    "pd.Series(auc_scores['LR'], index = names)"
   ]
  },
  {
   "cell_type": "code",
   "execution_count": 15,
   "id": "3e849333",
   "metadata": {
    "scrolled": true
   },
   "outputs": [
    {
     "data": {
      "text/plain": [
       "ant         0.811134\n",
       "camel       0.786833\n",
       "jedit       0.772099\n",
       "log4j       0.823045\n",
       "tomcat      0.910060\n",
       "velocity    0.748841\n",
       "xalan       0.823808\n",
       "xerces      0.836439\n",
       "dtype: float64"
      ]
     },
     "execution_count": 15,
     "metadata": {},
     "output_type": "execute_result"
    }
   ],
   "source": [
    "pd.Series(f1_scores['LR'], index = names)"
   ]
  },
  {
   "cell_type": "markdown",
   "id": "07374e06",
   "metadata": {},
   "source": [
    "Let's plot a **boxplot** of our scores:"
   ]
  },
  {
   "cell_type": "code",
   "execution_count": 16,
   "id": "80c219d2",
   "metadata": {
    "scrolled": true
   },
   "outputs": [
    {
     "data": {
      "image/png": "[encoded data removed]",
      "text/plain": [
       "<Figure size 1080x360 with 1 Axes>"
      ]
     },
     "metadata": {
      "needs_background": "light"
     },
     "output_type": "display_data"
    }
   ],
   "source": [
    "boxplot_single_model_scores('LR')"
   ]
  },
  {
   "cell_type": "markdown",
   "id": "93bcb0d8",
   "metadata": {},
   "source": [
    "Boxplot is a very explanatory plot: we can easily understand the distribution of our scores from it. For example, from this boxplot we understand that F1 scores has not an high variablity and they are concentrated between 0.75 and 0.82, excluding an outlier on the right representing a score around 0.9. AUCs are more variable, as they have their median around 0.62 but they vary between 0.5 and 0.71"
   ]
  },
  {
   "cell_type": "markdown",
   "id": "875957c5",
   "metadata": {},
   "source": [
    "### 4. Naive Bayes classifier<a id='nb'>"
   ]
  },
  {
   "cell_type": "markdown",
   "id": "dd4d9854",
   "metadata": {},
   "source": [
    "Naive Bayes is a classification algorithm that works based on the Bayes theorem:\n",
    "\n",
    "$P(A|B) = \\frac{P(B|A)*P(A)}{P(B)}$\n",
    "\n",
    "and uses this probability in order to construct the classifiers.\n",
    "\n",
    "In Pyhton it can be computed as:"
   ]
  },
  {
   "cell_type": "code",
   "execution_count": 17,
   "id": "9aa9115e",
   "metadata": {},
   "outputs": [],
   "source": [
    "from sklearn.naive_bayes import GaussianNB\n",
    "NB = GaussianNB()"
   ]
  },
  {
   "cell_type": "code",
   "execution_count": 18,
   "id": "5306f56d",
   "metadata": {},
   "outputs": [],
   "source": [
    "for key in names:\n",
    "    NB.fit(X_train[key], y_train[key])\n",
    "    y_pred = NB.predict(X_test[key])\n",
    "    compute_scores('NB', key, auc_scores, f1_scores)"
   ]
  },
  {
   "cell_type": "code",
   "execution_count": 19,
   "id": "bd5140b1",
   "metadata": {},
   "outputs": [
    {
     "data": {
      "image/png": "[encoded data removed]",
      "text/plain": [
       "<Figure size 1080x360 with 1 Axes>"
      ]
     },
     "metadata": {
      "needs_background": "light"
     },
     "output_type": "display_data"
    }
   ],
   "source": [
    "boxplot_single_model_scores('NB')"
   ]
  },
  {
   "cell_type": "markdown",
   "id": "12b1e1ff",
   "metadata": {},
   "source": [
    "### 5. K-Nearest Neighbor<a id='knn'>"
   ]
  },
  {
   "cell_type": "markdown",
   "id": "90b51970",
   "metadata": {},
   "source": [
    "Noe we will run k-Nearest Neighbor algorithm"
   ]
  },
  {
   "cell_type": "code",
   "execution_count": 20,
   "id": "c2fa1852",
   "metadata": {},
   "outputs": [],
   "source": [
    "from sklearn.neighbors import KNeighborsClassifier"
   ]
  },
  {
   "cell_type": "markdown",
   "id": "0cc61c41",
   "metadata": {},
   "source": [
    "Let's try kNN on `ant`"
   ]
  },
  {
   "cell_type": "code",
   "execution_count": 21,
   "id": "eaca865e",
   "metadata": {},
   "outputs": [
    {
     "name": "stdout",
     "output_type": "stream",
     "text": [
      "AUC: 0.664066\n",
      "F1: 0.777573\n"
     ]
    }
   ],
   "source": [
    "KNN = KNeighborsClassifier()\n",
    "KNN.fit(X_train['ant'], y_train['ant'])\n",
    "y_pred = KNN.predict(X_test['ant'])\n",
    "auc = roc_auc_score(y_test['ant'], y_pred, average ='weighted')\n",
    "f1 = f1_score(y_test['ant'], y_pred, average ='weighted')\n",
    "print('AUC: %f\\nF1: %f' %(auc, f1))"
   ]
  },
  {
   "cell_type": "markdown",
   "id": "69d176ae",
   "metadata": {},
   "source": [
    "##### k Parameter\n",
    "A very important parameter in k-Nearest Neighbors is *k*, that is the number of neighbors of a point. It is an *hyperparameter*, which means it is a characteristics that is external to the model and cannot be derived by training.\n",
    "\n",
    "Default *k* in the related *scikit* function is 5, but we don't know if it is the optimal value.\n",
    "\n",
    "Thankfully, *scikit* provides an *hyperparameter optimization tool*, called **GridSearch**. GridSearch runs the algorithm with different hyperparameters and finds the one that best fits to the model. Of course, on the other side it can require a lot of computational resources.\n",
    "\n",
    "\n",
    "Let's try to use **GridSearch to find the optimal k and improve the performance of the model**"
   ]
  },
  {
   "cell_type": "code",
   "execution_count": 22,
   "id": "dbee8a9c",
   "metadata": {},
   "outputs": [],
   "source": [
    "from sklearn.model_selection import GridSearchCV"
   ]
  },
  {
   "cell_type": "code",
   "execution_count": 23,
   "id": "8e0a2c95",
   "metadata": {},
   "outputs": [],
   "source": [
    "parameters = {\"n_neighbors\": range(1,10)}\n",
    "gridsearch = GridSearchCV(KNN, parameters)"
   ]
  },
  {
   "cell_type": "code",
   "execution_count": 24,
   "id": "8618c100",
   "metadata": {},
   "outputs": [
    {
     "data": {
      "text/plain": [
       "{'ant': 6,\n",
       " 'camel': 8,\n",
       " 'jedit': 9,\n",
       " 'log4j': 3,\n",
       " 'tomcat': 2,\n",
       " 'velocity': 3,\n",
       " 'xalan': 8,\n",
       " 'xerces': 8}"
      ]
     },
     "execution_count": 24,
     "metadata": {},
     "output_type": "execute_result"
    }
   ],
   "source": [
    "neighbors = dict()\n",
    "for key in names:\n",
    "    gridsearch.fit(X_train[key], y_train[key])\n",
    "    neighbors[key] = gridsearch.best_params_.get('n_neighbors')\n",
    "neighbors"
   ]
  },
  {
   "cell_type": "markdown",
   "id": "a37a4470",
   "metadata": {},
   "source": [
    "So, now let's retry to run KNN on `ant`, now with the optimal *k*"
   ]
  },
  {
   "cell_type": "code",
   "execution_count": 25,
   "id": "6c1ef31d",
   "metadata": {},
   "outputs": [
    {
     "name": "stdout",
     "output_type": "stream",
     "text": [
      "AUCC: 0.656394\n",
      "F1: 0.787573\n"
     ]
    }
   ],
   "source": [
    "KNN = KNeighborsClassifier(neighbors.get('ant'))\n",
    "KNN.fit(X_train['ant'], y_train['ant'])\n",
    "y_pred = KNN.predict(X_test['ant'])\n",
    "auc = roc_auc_score(y_test['ant'], y_pred, average ='weighted')\n",
    "f1 = f1_score(y_test['ant'], y_pred, average ='weighted')\n",
    "print('AUCC: %f\\nF1: %f' %(auc, f1))"
   ]
  },
  {
   "cell_type": "markdown",
   "id": "1944fa8f",
   "metadata": {},
   "source": [
    "As a result, both scores have increased."
   ]
  },
  {
   "cell_type": "markdown",
   "id": "bfbacd8a",
   "metadata": {},
   "source": [
    "So now we can **run kNN on the rest of the datasets** and observe the results"
   ]
  },
  {
   "cell_type": "code",
   "execution_count": 26,
   "id": "75956e5e",
   "metadata": {},
   "outputs": [],
   "source": [
    "for key in names:\n",
    "    KNN = KNeighborsClassifier(n_neighbors = neighbors.get(key))\n",
    "    KNN.fit(X_train[key], y_train[key])\n",
    "    y_pred = KNN.predict(X_test[key])\n",
    "    compute_scores('KNN', key, auc_scores, f1_scores)"
   ]
  },
  {
   "cell_type": "code",
   "execution_count": 27,
   "id": "b9d77865",
   "metadata": {
    "scrolled": true
   },
   "outputs": [
    {
     "data": {
      "image/png": "[encoded data removed]",
      "text/plain": [
       "<Figure size 1080x360 with 1 Axes>"
      ]
     },
     "metadata": {
      "needs_background": "light"
     },
     "output_type": "display_data"
    }
   ],
   "source": [
    "boxplot_single_model_scores('KNN')"
   ]
  },
  {
   "cell_type": "markdown",
   "id": "4fcb78de",
   "metadata": {},
   "source": [
    "### 6. Neural Network<a id='nn'>"
   ]
  },
  {
   "cell_type": "markdown",
   "id": "15eb3f98",
   "metadata": {},
   "source": [
    "To perform analysis with Neural Networks we will use **MLPC (Multi-layer perceptron classifier)**"
   ]
  },
  {
   "cell_type": "code",
   "execution_count": 28,
   "id": "2356c29b",
   "metadata": {},
   "outputs": [],
   "source": [
    "from sklearn.neural_network import MLPClassifier"
   ]
  },
  {
   "cell_type": "code",
   "execution_count": 29,
   "id": "57586f9e",
   "metadata": {},
   "outputs": [
    {
     "name": "stdout",
     "output_type": "stream",
     "text": [
      "AUCC: 0.642711\n",
      "F1: 0.796963\n"
     ]
    }
   ],
   "source": [
    "NN = MLPClassifier()\n",
    "NN.fit(X_train['ant'], y_train['ant'])\n",
    "y_pred = NN.predict(X_test['ant'])\n",
    "auc = roc_auc_score(y_test['ant'], y_pred, average ='weighted')\n",
    "f1 = f1_score(y_test['ant'], y_pred, average ='weighted')\n",
    "print('AUCC: %f\\nF1: %f' %(auc, f1))"
   ]
  },
  {
   "cell_type": "code",
   "execution_count": 30,
   "id": "41ff84e4",
   "metadata": {},
   "outputs": [],
   "source": [
    "for key in names:\n",
    "    NN = MLPClassifier(max_iter = 2000)\n",
    "    NN.fit(X_train[key], y_train[key])\n",
    "    y_pred = NN.predict(X_test[key])\n",
    "    compute_scores('NN', key, auc_scores, f1_scores)"
   ]
  },
  {
   "cell_type": "code",
   "execution_count": 31,
   "id": "9443e3de",
   "metadata": {},
   "outputs": [
    {
     "data": {
      "image/png": "[encoded data removed]",
      "text/plain": [
       "<Figure size 1080x360 with 1 Axes>"
      ]
     },
     "metadata": {
      "needs_background": "light"
     },
     "output_type": "display_data"
    }
   ],
   "source": [
    "boxplot_single_model_scores('NN')"
   ]
  },
  {
   "cell_type": "markdown",
   "id": "4bd07ce5",
   "metadata": {},
   "source": [
    "### 7. Support Vector Machines<a id='svm'>"
   ]
  },
  {
   "cell_type": "markdown",
   "id": "6de62070",
   "metadata": {},
   "source": [
    "Support Vector Machines are implemented in Python by:"
   ]
  },
  {
   "cell_type": "code",
   "execution_count": 32,
   "id": "76850316",
   "metadata": {},
   "outputs": [],
   "source": [
    "from sklearn.svm import SVC"
   ]
  },
  {
   "cell_type": "code",
   "execution_count": 33,
   "id": "1e050dba",
   "metadata": {},
   "outputs": [
    {
     "name": "stdout",
     "output_type": "stream",
     "text": [
      "AUC: 0.679795\n",
      "F1: 0.807889\n"
     ]
    }
   ],
   "source": [
    "SVM = SVC()\n",
    "SVM.fit(X_train['ant'], y_train['ant'])\n",
    "y_pred = SVM.predict(X_test['ant'])\n",
    "auc = roc_auc_score(y_test['ant'], y_pred, average ='weighted')\n",
    "f1 = f1_score(y_test['ant'], y_pred, average ='weighted')\n",
    "print('AUC: %f\\nF1: %f' %(auc, f1))"
   ]
  },
  {
   "cell_type": "code",
   "execution_count": 34,
   "id": "b4ab6641",
   "metadata": {},
   "outputs": [],
   "source": [
    "for key in names:\n",
    "    SVM.fit(X_train[key], y_train[key])\n",
    "    y_pred = SVM.predict(X_test[key])\n",
    "    compute_scores('SVM', key, auc_scores, f1_scores)"
   ]
  },
  {
   "cell_type": "code",
   "execution_count": 35,
   "id": "831e111c",
   "metadata": {},
   "outputs": [
    {
     "data": {
      "image/png": "[encoded data removed]",
      "text/plain": [
       "<Figure size 1080x360 with 1 Axes>"
      ]
     },
     "metadata": {
      "needs_background": "light"
     },
     "output_type": "display_data"
    }
   ],
   "source": [
    "boxplot_single_model_scores('NN')"
   ]
  },
  {
   "cell_type": "markdown",
   "id": "74f8c308",
   "metadata": {},
   "source": [
    "### 8. Decision Trees<a id='dt'>"
   ]
  },
  {
   "cell_type": "markdown",
   "id": "0b95b571",
   "metadata": {},
   "source": [
    "Now we will analyze data using Decision Trees."
   ]
  },
  {
   "cell_type": "code",
   "execution_count": 36,
   "id": "506088bb",
   "metadata": {},
   "outputs": [],
   "source": [
    "from sklearn import tree\n",
    "from sklearn.tree import DecisionTreeClassifier"
   ]
  },
  {
   "cell_type": "code",
   "execution_count": 37,
   "id": "d56247cd",
   "metadata": {},
   "outputs": [
    {
     "name": "stdout",
     "output_type": "stream",
     "text": [
      "AUC: 0.618926\n",
      "F1: 0.731544\n"
     ]
    }
   ],
   "source": [
    "DT = DecisionTreeClassifier()\n",
    "DT.fit(X_train['ant'], y_train['ant'])\n",
    "y_pred = DT.predict(X_test['ant'])\n",
    "auc = roc_auc_score(y_test['ant'], y_pred, average ='weighted')\n",
    "f1 = f1_score(y_test['ant'], y_pred, average ='weighted')\n",
    "print('AUC: %f\\nF1: %f' %(auc, f1))"
   ]
  },
  {
   "cell_type": "markdown",
   "id": "7a143d75",
   "metadata": {},
   "source": [
    "We can try plotting the Decision Tree of `ant`"
   ]
  },
  {
   "cell_type": "code",
   "execution_count": 38,
   "id": "8d8ce187",
   "metadata": {
    "scrolled": false
   },
   "outputs": [
    {
     "data": {
      "image/png": "[encoded data removed]",
      "text/plain": [
       "<Figure size 2160x1080 with 1 Axes>"
      ]
     },
     "metadata": {
      "needs_background": "light"
     },
     "output_type": "display_data"
    }
   ],
   "source": [
    "def plot_decision_tree(decisionTree, fileName):\n",
    "    plt.figure(figsize=(30,15))\n",
    "    tree.plot_tree(DT, filled = True, feature_names = list(ant.columns))\n",
    "    savefig(fileName)\n",
    "    plt.show()\n",
    "    \n",
    "plot_decision_tree(DT, 'ant_decision_tree')"
   ]
  },
  {
   "cell_type": "markdown",
   "id": "c396c0ba",
   "metadata": {},
   "source": [
    "As we can see, it is a very wide and complicated tree. <a href='../figures/ant_decision_tree.png'>View picture in higher resolution</a>"
   ]
  },
  {
   "cell_type": "code",
   "execution_count": 39,
   "id": "4467b5d2",
   "metadata": {},
   "outputs": [],
   "source": [
    "for key in names:\n",
    "    DT = DecisionTreeClassifier()\n",
    "    DT.fit(X_train[key], y_train[key])\n",
    "    y_pred = DT.predict(X_test[key])\n",
    "    compute_scores('DT', key, auc_scores, f1_scores)"
   ]
  },
  {
   "cell_type": "code",
   "execution_count": 40,
   "id": "3d09a479",
   "metadata": {},
   "outputs": [
    {
     "data": {
      "image/png": "[encoded data removed]",
      "text/plain": [
       "<Figure size 1080x360 with 1 Axes>"
      ]
     },
     "metadata": {
      "needs_background": "light"
     },
     "output_type": "display_data"
    }
   ],
   "source": [
    "boxplot_single_model_scores('SVM')"
   ]
  },
  {
   "cell_type": "markdown",
   "id": "30d3022a",
   "metadata": {},
   "source": [
    "### 9. Random Forest<a id='rf'>"
   ]
  },
  {
   "cell_type": "code",
   "execution_count": 41,
   "id": "fdc12040",
   "metadata": {},
   "outputs": [],
   "source": [
    "from sklearn.ensemble import RandomForestClassifier"
   ]
  },
  {
   "cell_type": "code",
   "execution_count": 42,
   "id": "98589a7c",
   "metadata": {},
   "outputs": [
    {
     "name": "stdout",
     "output_type": "stream",
     "text": [
      "AUC: 0.721228\n",
      "F1: 0.819278\n"
     ]
    }
   ],
   "source": [
    "RF = RandomForestClassifier()\n",
    "RF.fit(X_train['ant'], y_train['ant'])\n",
    "y_pred = RF.predict(X_test['ant'])\n",
    "auc = roc_auc_score(y_test['ant'], y_pred, average ='weighted')\n",
    "f1 = f1_score(y_test['ant'], y_pred, average ='weighted')\n",
    "print('AUC: %f\\nF1: %f' %(auc, f1))"
   ]
  },
  {
   "cell_type": "code",
   "execution_count": 43,
   "id": "abe8b918",
   "metadata": {},
   "outputs": [],
   "source": [
    "for key in names:\n",
    "    RF = RandomForestClassifier()\n",
    "    RF.fit(X_train[key], y_train[key])\n",
    "    y_pred = RF.predict(X_test[key])\n",
    "    compute_scores('RF', key, auc_scores, f1_scores)"
   ]
  },
  {
   "cell_type": "code",
   "execution_count": 44,
   "id": "08326fa7",
   "metadata": {},
   "outputs": [
    {
     "data": {
      "image/png": "[encoded data removed]",
      "text/plain": [
       "<Figure size 1080x360 with 1 Axes>"
      ]
     },
     "metadata": {
      "needs_background": "light"
     },
     "output_type": "display_data"
    }
   ],
   "source": [
    "boxplot_single_model_scores('RF')"
   ]
  },
  {
   "cell_type": "markdown",
   "id": "891245fa",
   "metadata": {},
   "source": [
    "### 10. XGBoost<a id='xgb'>"
   ]
  },
  {
   "cell_type": "markdown",
   "id": "72202a86",
   "metadata": {},
   "source": [
    "#### 10.1 Definition"
   ]
  },
  {
   "cell_type": "markdown",
   "id": "dfe5f226",
   "metadata": {},
   "source": [
    "XGBoost (standing for *eXtreme Gradient Boosting*) is, in a nutshell, a tree-based \"super-optimized\" gradient descent and boosting algorithm that is unusually fast and accurate. This “super optimization” occurs by combining a batch gradient descent function, and a penalty for model complexity."
   ]
  },
  {
   "cell_type": "markdown",
   "id": "34bd5ee2",
   "metadata": {},
   "source": [
    "In order to run it, **installation of `xgboost` library** (by running `conda install -c conda-forge xgboost` **is required**."
   ]
  },
  {
   "cell_type": "code",
   "execution_count": 45,
   "id": "7ef196e8",
   "metadata": {},
   "outputs": [],
   "source": [
    "from xgboost import XGBClassifier"
   ]
  },
  {
   "cell_type": "markdown",
   "id": "0856b1a6",
   "metadata": {},
   "source": [
    "#### 10.2 Constructing an unbiased XGBoost model"
   ]
  },
  {
   "cell_type": "markdown",
   "id": "87cb9046",
   "metadata": {},
   "source": [
    "The XGBoost model used in the research (which they call *US-XGBoost, Unbiased Search XGBoost*) is a strongly unbiased model, which we can try to rebuild by a brute-force optimizazion of the hyperparameters.\n",
    "\n",
    "Considering the probability of increasing the model's performance without overfitting, we can find 6 most important hyperparameters:\n",
    "<ol>\n",
    "    <li>The number of sub-trees</li>\n",
    "    <li>The maximum tree depth</li>\n",
    "    <li>The learning rate</li>\n",
    "    <li>L1 (reg-α) and L2 (reg-λ) regularization weights</li>\n",
    "    <li>The complexity control (γ)</li>\n",
    "    <li>The minimum child rate</li>\n",
    "</ol>\n"
   ]
  },
  {
   "cell_type": "markdown",
   "id": "c3199df4",
   "metadata": {},
   "source": [
    "Let's explore the `XGBClassifier` function:"
   ]
  },
  {
   "cell_type": "code",
   "execution_count": 46,
   "id": "cace4a04",
   "metadata": {},
   "outputs": [
    {
     "name": "stdout",
     "output_type": "stream",
     "text": [
      "Help on class XGBClassifier in module xgboost.sklearn:\n",
      "\n",
      "class XGBClassifier(XGBModel, sklearn.base.ClassifierMixin)\n",
      " |  XGBClassifier(*, objective: Union[str, Callable[[numpy.ndarray, numpy.ndarray], Tuple[numpy.ndarray, numpy.ndarray]], NoneType] = 'binary:logistic', use_label_encoder: bool = True, **kwargs: Any) -> None\n",
      " |  \n",
      " |  Implementation of the scikit-learn API for XGBoost classification.\n",
      " |  \n",
      " |  \n",
      " |  Parameters\n",
      " |  ----------\n",
      " |  \n",
      " |      n_estimators : int\n",
      " |          Number of boosting rounds.\n",
      " |      use_label_encoder : bool\n",
      " |          (Deprecated) Use the label encoder from scikit-learn to encode the labels. For new\n",
      " |          code, we recommend that you set this parameter to False.\n",
      " |  \n",
      " |      max_depth :  Optional[int]\n",
      " |          Maximum tree depth for base learners.\n",
      " |      learning_rate : Optional[float]\n",
      " |          Boosting learning rate (xgb's \"eta\")\n",
      " |      verbosity : Optional[int]\n",
      " |          The degree of verbosity. Valid values are 0 (silent) - 3 (debug).\n",
      " |      objective : typing.Union[str, typing.Callable[[numpy.ndarray, numpy.ndarray], typing.Tuple[numpy.ndarray, numpy.ndarray]], NoneType]\n",
      " |          Specify the learning task and the corresponding learning objective or\n",
      " |          a custom objective function to be used (see note below).\n",
      " |      booster: Optional[str]\n",
      " |          Specify which booster to use: gbtree, gblinear or dart.\n",
      " |      tree_method: Optional[str]\n",
      " |          Specify which tree method to use.  Default to auto.  If this parameter\n",
      " |          is set to default, XGBoost will choose the most conservative option\n",
      " |          available.  It's recommended to study this option from the parameters\n",
      " |          document: https://xgboost.readthedocs.io/en/latest/treemethod.html.\n",
      " |      n_jobs : Optional[int]\n",
      " |          Number of parallel threads used to run xgboost.  When used with other Scikit-Learn\n",
      " |          algorithms like grid search, you may choose which algorithm to parallelize and\n",
      " |          balance the threads.  Creating thread contention will significantly slow down both\n",
      " |          algorithms.\n",
      " |      gamma : Optional[float]\n",
      " |          Minimum loss reduction required to make a further partition on a leaf\n",
      " |          node of the tree.\n",
      " |      min_child_weight : Optional[float]\n",
      " |          Minimum sum of instance weight(hessian) needed in a child.\n",
      " |      max_delta_step : Optional[float]\n",
      " |          Maximum delta step we allow each tree's weight estimation to be.\n",
      " |      subsample : Optional[float]\n",
      " |          Subsample ratio of the training instance.\n",
      " |      colsample_bytree : Optional[float]\n",
      " |          Subsample ratio of columns when constructing each tree.\n",
      " |      colsample_bylevel : Optional[float]\n",
      " |          Subsample ratio of columns for each level.\n",
      " |      colsample_bynode : Optional[float]\n",
      " |          Subsample ratio of columns for each split.\n",
      " |      reg_alpha : Optional[float]\n",
      " |          L1 regularization term on weights (xgb's alpha).\n",
      " |      reg_lambda : Optional[float]\n",
      " |          L2 regularization term on weights (xgb's lambda).\n",
      " |      scale_pos_weight : Optional[float]\n",
      " |          Balancing of positive and negative weights.\n",
      " |      base_score : Optional[float]\n",
      " |          The initial prediction score of all instances, global bias.\n",
      " |      random_state : Optional[Union[numpy.random.RandomState, int]]\n",
      " |          Random number seed.\n",
      " |  \n",
      " |          .. note::\n",
      " |  \n",
      " |             Using gblinear booster with shotgun updater is nondeterministic as\n",
      " |             it uses Hogwild algorithm.\n",
      " |  \n",
      " |      missing : float, default np.nan\n",
      " |          Value in the data which needs to be present as a missing value.\n",
      " |      num_parallel_tree: Optional[int]\n",
      " |          Used for boosting random forest.\n",
      " |      monotone_constraints : Optional[Union[Dict[str, int], str]]\n",
      " |          Constraint of variable monotonicity.  See tutorial for more\n",
      " |          information.\n",
      " |      interaction_constraints : Optional[Union[str, List[Tuple[str]]]]\n",
      " |          Constraints for interaction representing permitted interactions.  The\n",
      " |          constraints must be specified in the form of a nest list, e.g. [[0, 1],\n",
      " |          [2, 3, 4]], where each inner list is a group of indices of features\n",
      " |          that are allowed to interact with each other.  See tutorial for more\n",
      " |          information\n",
      " |      importance_type: Optional[str]\n",
      " |          The feature importance type for the feature_importances\\_ property:\n",
      " |  \n",
      " |          * For tree model, it's either \"gain\", \"weight\", \"cover\", \"total_gain\" or\n",
      " |            \"total_cover\".\n",
      " |          * For linear model, only \"weight\" is defined and it's the normalized coefficients\n",
      " |            without bias.\n",
      " |  \n",
      " |      gpu_id : Optional[int]\n",
      " |          Device ordinal.\n",
      " |      validate_parameters : Optional[bool]\n",
      " |          Give warnings for unknown parameter.\n",
      " |      predictor : Optional[str]\n",
      " |          Force XGBoost to use specific predictor, available choices are [cpu_predictor,\n",
      " |          gpu_predictor].\n",
      " |      enable_categorical : bool\n",
      " |  \n",
      " |          .. versionadded:: 1.5.0\n",
      " |  \n",
      " |          Experimental support for categorical data.  Do not set to true unless you are\n",
      " |          interested in development. Only valid when `gpu_hist` and dataframe are used.\n",
      " |  \n",
      " |      kwargs : dict, optional\n",
      " |          Keyword arguments for XGBoost Booster object.  Full documentation of\n",
      " |          parameters can be found here:\n",
      " |          https://github.com/dmlc/xgboost/blob/master/doc/parameter.rst.\n",
      " |          Attempting to set a parameter via the constructor args and \\*\\*kwargs\n",
      " |          dict simultaneously will result in a TypeError.\n",
      " |  \n",
      " |          .. note:: \\*\\*kwargs unsupported by scikit-learn\n",
      " |  \n",
      " |              \\*\\*kwargs is unsupported by scikit-learn.  We do not guarantee\n",
      " |              that parameters passed via this argument will interact properly\n",
      " |              with scikit-learn.\n",
      " |  \n",
      " |          .. note::  Custom objective function\n",
      " |  \n",
      " |              A custom objective function can be provided for the ``objective``\n",
      " |              parameter. In this case, it should have the signature\n",
      " |              ``objective(y_true, y_pred) -> grad, hess``:\n",
      " |  \n",
      " |              y_true: array_like of shape [n_samples]\n",
      " |                  The target values\n",
      " |              y_pred: array_like of shape [n_samples]\n",
      " |                  The predicted values\n",
      " |  \n",
      " |              grad: array_like of shape [n_samples]\n",
      " |                  The value of the gradient for each sample point.\n",
      " |              hess: array_like of shape [n_samples]\n",
      " |                  The value of the second derivative for each sample point\n",
      " |  \n",
      " |  Method resolution order:\n",
      " |      XGBClassifier\n",
      " |      XGBModel\n",
      " |      sklearn.base.BaseEstimator\n",
      " |      sklearn.base.ClassifierMixin\n",
      " |      builtins.object\n",
      " |  \n",
      " |  Methods defined here:\n",
      " |  \n",
      " |  __init__(self, *, objective: Union[str, Callable[[numpy.ndarray, numpy.ndarray], Tuple[numpy.ndarray, numpy.ndarray]], NoneType] = 'binary:logistic', use_label_encoder: bool = True, **kwargs: Any) -> None\n",
      " |      Initialize self.  See help(type(self)) for accurate signature.\n",
      " |  \n",
      " |  evals_result(self) -> Dict[str, Dict[str, Union[List[float], List[Tuple[float, float]]]]]\n",
      " |      Return the evaluation results.\n",
      " |      \n",
      " |      If **eval_set** is passed to the `fit` function, you can call\n",
      " |      ``evals_result()`` to get evaluation results for all passed **eval_sets**.\n",
      " |      When **eval_metric** is also passed to the `fit` function, the\n",
      " |      **evals_result** will contain the **eval_metrics** passed to the `fit` function.\n",
      " |      \n",
      " |      Returns\n",
      " |      -------\n",
      " |      evals_result : dictionary\n",
      " |      \n",
      " |      Example\n",
      " |      -------\n",
      " |      \n",
      " |      .. code-block:: python\n",
      " |      \n",
      " |          param_dist = {'objective':'binary:logistic', 'n_estimators':2}\n",
      " |      \n",
      " |          clf = xgb.XGBClassifier(**param_dist)\n",
      " |      \n",
      " |          clf.fit(X_train, y_train,\n",
      " |                  eval_set=[(X_train, y_train), (X_test, y_test)],\n",
      " |                  eval_metric='logloss',\n",
      " |                  verbose=True)\n",
      " |      \n",
      " |          evals_result = clf.evals_result()\n",
      " |      \n",
      " |      The variable **evals_result** will contain\n",
      " |      \n",
      " |      .. code-block:: python\n",
      " |      \n",
      " |          {'validation_0': {'logloss': ['0.604835', '0.531479']},\n",
      " |          'validation_1': {'logloss': ['0.41965', '0.17686']}}\n",
      " |  \n",
      " |  fit(self, X: Any, y: Any, *, sample_weight: Union[Any, NoneType] = None, base_margin: Union[Any, NoneType] = None, eval_set: Union[List[Tuple[Any, Any]], NoneType] = None, eval_metric: Union[str, List[str], Callable[[numpy.ndarray, xgboost.core.DMatrix], Tuple[str, float]], NoneType] = None, early_stopping_rounds: Union[int, NoneType] = None, verbose: Union[bool, NoneType] = True, xgb_model: Union[xgboost.core.Booster, str, xgboost.sklearn.XGBModel, NoneType] = None, sample_weight_eval_set: Union[List[Any], NoneType] = None, base_margin_eval_set: Union[List[Any], NoneType] = None, feature_weights: Union[Any, NoneType] = None, callbacks: Union[List[xgboost.callback.TrainingCallback], NoneType] = None) -> 'XGBClassifier'\n",
      " |      Fit gradient boosting classifier.\n",
      " |      \n",
      " |      Note that calling ``fit()`` multiple times will cause the model object to be\n",
      " |      re-fit from scratch. To resume training from a previous checkpoint, explicitly\n",
      " |      pass ``xgb_model`` argument.\n",
      " |      \n",
      " |      Parameters\n",
      " |      ----------\n",
      " |      X :\n",
      " |          Feature matrix\n",
      " |      y :\n",
      " |          Labels\n",
      " |      sample_weight :\n",
      " |          instance weights\n",
      " |      base_margin :\n",
      " |          global bias for each instance.\n",
      " |      eval_set :\n",
      " |          A list of (X, y) tuple pairs to use as validation sets, for which\n",
      " |          metrics will be computed.\n",
      " |          Validation metrics will help us track the performance of the model.\n",
      " |      eval_metric :\n",
      " |          If a str, should be a built-in evaluation metric to use. See doc/parameter.rst.\n",
      " |      \n",
      " |          If a list of str, should be the list of multiple built-in evaluation metrics\n",
      " |          to use.\n",
      " |      \n",
      " |          If callable, a custom evaluation metric. The call signature is\n",
      " |          ``func(y_predicted, y_true)`` where ``y_true`` will be a DMatrix object such\n",
      " |          that you may need to call the ``get_label`` method. It must return a str,\n",
      " |          value pair where the str is a name for the evaluation and value is the value\n",
      " |          of the evaluation function. The callable custom objective is always minimized.\n",
      " |      early_stopping_rounds :\n",
      " |          Activates early stopping. Validation metric needs to improve at least once in\n",
      " |          every **early_stopping_rounds** round(s) to continue training.\n",
      " |          Requires at least one item in **eval_set**.\n",
      " |      \n",
      " |          The method returns the model from the last iteration (not the best one).\n",
      " |          If there's more than one item in **eval_set**, the last entry will be used\n",
      " |          for early stopping.\n",
      " |      \n",
      " |          If there's more than one metric in **eval_metric**, the last metric will be\n",
      " |          used for early stopping.\n",
      " |      \n",
      " |          If early stopping occurs, the model will have three additional fields:\n",
      " |          ``clf.best_score``, ``clf.best_iteration``.\n",
      " |      verbose :\n",
      " |          If `verbose` and an evaluation set is used, writes the evaluation metric\n",
      " |          measured on the validation set to stderr.\n",
      " |      xgb_model :\n",
      " |          file name of stored XGBoost model or 'Booster' instance XGBoost model to be\n",
      " |          loaded before training (allows training continuation).\n",
      " |      sample_weight_eval_set :\n",
      " |          A list of the form [L_1, L_2, ..., L_n], where each L_i is an array like\n",
      " |          object storing instance weights for the i-th validation set.\n",
      " |      base_margin_eval_set :\n",
      " |          A list of the form [M_1, M_2, ..., M_n], where each M_i is an array like\n",
      " |          object storing base margin for the i-th validation set.\n",
      " |      feature_weights :\n",
      " |          Weight for each feature, defines the probability of each feature being\n",
      " |          selected when colsample is being used.  All values must be greater than 0,\n",
      " |          otherwise a `ValueError` is thrown.  Only available for `hist`, `gpu_hist` and\n",
      " |          `exact` tree methods.\n",
      " |      callbacks :\n",
      " |          List of callback functions that are applied at end of each iteration.\n",
      " |          It is possible to use predefined callbacks by using :ref:`callback_api`.\n",
      " |          Example:\n",
      " |      \n",
      " |          .. code-block:: python\n",
      " |      \n",
      " |              callbacks = [xgb.callback.EarlyStopping(rounds=early_stopping_rounds,\n",
      " |                                                      save_best=True)]\n",
      " |  \n",
      " |  predict(self, X: Any, output_margin: bool = False, ntree_limit: Union[int, NoneType] = None, validate_features: bool = True, base_margin: Union[Any, NoneType] = None, iteration_range: Union[Tuple[int, int], NoneType] = None) -> numpy.ndarray\n",
      " |      Predict with `X`.  If the model is trained with early stopping, then `best_iteration`\n",
      " |      is used automatically.  For tree models, when data is on GPU, like cupy array or\n",
      " |      cuDF dataframe and `predictor` is not specified, the prediction is run on GPU\n",
      " |      automatically, otherwise it will run on CPU.\n",
      " |      \n",
      " |      .. note:: This function is only thread safe for `gbtree` and `dart`.\n",
      " |      \n",
      " |      Parameters\n",
      " |      ----------\n",
      " |      X :\n",
      " |          Data to predict with.\n",
      " |      output_margin :\n",
      " |          Whether to output the raw untransformed margin value.\n",
      " |      ntree_limit :\n",
      " |          Deprecated, use `iteration_range` instead.\n",
      " |      validate_features :\n",
      " |          When this is True, validate that the Booster's and data's feature_names are\n",
      " |          identical.  Otherwise, it is assumed that the feature_names are the same.\n",
      " |      base_margin :\n",
      " |          Margin added to prediction.\n",
      " |      iteration_range :\n",
      " |          Specifies which layer of trees are used in prediction.  For example, if a\n",
      " |          random forest is trained with 100 rounds.  Specifying ``iteration_range=(10,\n",
      " |          20)``, then only the forests built during [10, 20) (half open set) rounds are\n",
      " |          used in this prediction.\n",
      " |      \n",
      " |          .. versionadded:: 1.4.0\n",
      " |      \n",
      " |      Returns\n",
      " |      -------\n",
      " |      prediction\n",
      " |  \n",
      " |  predict_proba(self, X: Any, ntree_limit: Union[int, NoneType] = None, validate_features: bool = True, base_margin: Union[Any, NoneType] = None, iteration_range: Union[Tuple[int, int], NoneType] = None) -> numpy.ndarray\n",
      " |      Predict the probability of each `X` example being of a given class.\n",
      " |      \n",
      " |      .. note:: This function is only thread safe for `gbtree` and `dart`.\n",
      " |      \n",
      " |      Parameters\n",
      " |      ----------\n",
      " |      X : array_like\n",
      " |          Feature matrix.\n",
      " |      ntree_limit : int\n",
      " |          Deprecated, use `iteration_range` instead.\n",
      " |      validate_features : bool\n",
      " |          When this is True, validate that the Booster's and data's feature_names are\n",
      " |          identical.  Otherwise, it is assumed that the feature_names are the same.\n",
      " |      base_margin : array_like\n",
      " |          Margin added to prediction.\n",
      " |      iteration_range :\n",
      " |          Specifies which layer of trees are used in prediction.  For example, if a\n",
      " |          random forest is trained with 100 rounds.  Specifying `iteration_range=(10,\n",
      " |          20)`, then only the forests built during [10, 20) (half open set) rounds are\n",
      " |          used in this prediction.\n",
      " |      \n",
      " |      Returns\n",
      " |      -------\n",
      " |      prediction :\n",
      " |          a numpy array of shape array-like of shape (n_samples, n_classes) with the\n",
      " |          probability of each data example being of a given class.\n",
      " |  \n",
      " |  ----------------------------------------------------------------------\n",
      " |  Methods inherited from XGBModel:\n",
      " |  \n",
      " |  __sklearn_is_fitted__(self) -> bool\n",
      " |  \n",
      " |  apply(self, X: Any, ntree_limit: int = 0, iteration_range: Union[Tuple[int, int], NoneType] = None) -> numpy.ndarray\n",
      " |      Return the predicted leaf every tree for each sample. If the model is trained with\n",
      " |      early stopping, then `best_iteration` is used automatically.\n",
      " |      \n",
      " |      Parameters\n",
      " |      ----------\n",
      " |      X : array_like, shape=[n_samples, n_features]\n",
      " |          Input features matrix.\n",
      " |      \n",
      " |      iteration_range :\n",
      " |          See :py:meth:`xgboost.XGBRegressor.predict`.\n",
      " |      \n",
      " |      ntree_limit :\n",
      " |          Deprecated, use ``iteration_range`` instead.\n",
      " |      \n",
      " |      Returns\n",
      " |      -------\n",
      " |      X_leaves : array_like, shape=[n_samples, n_trees]\n",
      " |          For each datapoint x in X and for each tree, return the index of the\n",
      " |          leaf x ends up in. Leaves are numbered within\n",
      " |          ``[0; 2**(self.max_depth+1))``, possibly with gaps in the numbering.\n",
      " |  \n",
      " |  get_booster(self) -> xgboost.core.Booster\n",
      " |      Get the underlying xgboost Booster of this model.\n",
      " |      \n",
      " |      This will raise an exception when fit was not called\n",
      " |      \n",
      " |      Returns\n",
      " |      -------\n",
      " |      booster : a xgboost booster of underlying model\n",
      " |  \n",
      " |  get_num_boosting_rounds(self) -> int\n",
      " |      Gets the number of xgboost boosting rounds.\n",
      " |  \n",
      " |  get_params(self, deep: bool = True) -> Dict[str, Any]\n",
      " |      Get parameters.\n",
      " |  \n",
      " |  get_xgb_params(self) -> Dict[str, Any]\n",
      " |      Get xgboost specific parameters.\n",
      " |  \n",
      " |  load_model(self, fname: Union[str, bytearray, os.PathLike]) -> None\n",
      " |      Load the model from a file or bytearray. Path to file can be local\n",
      " |      or as an URI.\n",
      " |      \n",
      " |      The model is loaded from XGBoost format which is universal among the various\n",
      " |      XGBoost interfaces. Auxiliary attributes of the Python Booster object (such as\n",
      " |      feature_names) will not be loaded when using binary format.  To save those\n",
      " |      attributes, use JSON instead.  See: `Model IO\n",
      " |      <https://xgboost.readthedocs.io/en/stable/tutorials/saving_model.html>`_ for more\n",
      " |      info.\n",
      " |      \n",
      " |      Parameters\n",
      " |      ----------\n",
      " |      fname :\n",
      " |          Input file name or memory buffer(see also save_raw)\n",
      " |  \n",
      " |  save_model(self, fname: Union[str, os.PathLike]) -> None\n",
      " |      Save the model to a file.\n",
      " |      \n",
      " |      The model is saved in an XGBoost internal format which is universal among the\n",
      " |      various XGBoost interfaces. Auxiliary attributes of the Python Booster object\n",
      " |      (such as feature_names) will not be saved when using binary format.  To save those\n",
      " |      attributes, use JSON instead. See: `Model IO\n",
      " |      <https://xgboost.readthedocs.io/en/stable/tutorials/saving_model.html>`_ for more\n",
      " |      info.\n",
      " |      \n",
      " |      Parameters\n",
      " |      ----------\n",
      " |      fname : string or os.PathLike\n",
      " |          Output file name\n",
      " |  \n",
      " |  set_params(self, **params: Any) -> 'XGBModel'\n",
      " |      Set the parameters of this estimator.  Modification of the sklearn method to\n",
      " |      allow unknown kwargs. This allows using the full range of xgboost\n",
      " |      parameters that are not defined as member variables in sklearn grid\n",
      " |      search.\n",
      " |      \n",
      " |      Returns\n",
      " |      -------\n",
      " |      self\n",
      " |  \n",
      " |  ----------------------------------------------------------------------\n",
      " |  Readonly properties inherited from XGBModel:\n",
      " |  \n",
      " |  best_iteration\n",
      " |  \n",
      " |  best_ntree_limit\n",
      " |  \n",
      " |  best_score\n",
      " |  \n",
      " |  coef_\n",
      " |      Coefficients property\n",
      " |      \n",
      " |      .. note:: Coefficients are defined only for linear learners\n",
      " |      \n",
      " |          Coefficients are only defined when the linear model is chosen as\n",
      " |          base learner (`booster=gblinear`). It is not defined for other base\n",
      " |          learner types, such as tree learners (`booster=gbtree`).\n",
      " |      \n",
      " |      Returns\n",
      " |      -------\n",
      " |      coef_ : array of shape ``[n_features]`` or ``[n_classes, n_features]``\n",
      " |  \n",
      " |  feature_importances_\n",
      " |      Feature importances property, return depends on `importance_type` parameter.\n",
      " |      \n",
      " |      Returns\n",
      " |      -------\n",
      " |      feature_importances_ : array of shape ``[n_features]`` except for multi-class\n",
      " |      linear model, which returns an array with shape `(n_features, n_classes)`\n",
      " |  \n",
      " |  intercept_\n",
      " |      Intercept (bias) property\n",
      " |      \n",
      " |      .. note:: Intercept is defined only for linear learners\n",
      " |      \n",
      " |          Intercept (bias) is only defined when the linear model is chosen as base\n",
      " |          learner (`booster=gblinear`). It is not defined for other base learner types, such\n",
      " |          as tree learners (`booster=gbtree`).\n",
      " |      \n",
      " |      Returns\n",
      " |      -------\n",
      " |      intercept_ : array of shape ``(1,)`` or ``[n_classes]``\n",
      " |  \n",
      " |  n_features_in_\n",
      " |  \n",
      " |  ----------------------------------------------------------------------\n",
      " |  Methods inherited from sklearn.base.BaseEstimator:\n",
      " |  \n",
      " |  __getstate__(self)\n",
      " |  \n",
      " |  __repr__(self, N_CHAR_MAX=700)\n",
      " |      Return repr(self).\n",
      " |  \n",
      " |  __setstate__(self, state)\n",
      " |  \n",
      " |  ----------------------------------------------------------------------\n",
      " |  Data descriptors inherited from sklearn.base.BaseEstimator:\n",
      " |  \n",
      " |  __dict__\n",
      " |      dictionary for instance variables (if defined)\n",
      " |  \n",
      " |  __weakref__\n",
      " |      list of weak references to the object (if defined)\n",
      " |  \n",
      " |  ----------------------------------------------------------------------\n",
      " |  Methods inherited from sklearn.base.ClassifierMixin:\n",
      " |  \n",
      " |  score(self, X, y, sample_weight=None)\n",
      " |      Return the mean accuracy on the given test data and labels.\n",
      " |      \n",
      " |      In multi-label classification, this is the subset accuracy\n",
      " |      which is a harsh metric since you require for each sample that\n",
      " |      each label set be correctly predicted.\n",
      " |      \n",
      " |      Parameters\n",
      " |      ----------\n",
      " |      X : array-like of shape (n_samples, n_features)\n",
      " |          Test samples.\n",
      " |      \n",
      " |      y : array-like of shape (n_samples,) or (n_samples, n_outputs)\n",
      " |          True labels for `X`.\n",
      " |      \n",
      " |      sample_weight : array-like of shape (n_samples,), default=None\n",
      " |          Sample weights.\n",
      " |      \n",
      " |      Returns\n",
      " |      -------\n",
      " |      score : float\n",
      " |          Mean accuracy of ``self.predict(X)`` wrt. `y`.\n",
      "\n"
     ]
    }
   ],
   "source": [
    "help(XGBClassifier)"
   ]
  },
  {
   "cell_type": "code",
   "execution_count": 47,
   "id": "fa3ac598",
   "metadata": {},
   "outputs": [
    {
     "data": {
      "text/plain": [
       "XGBClassifier(base_score=0.5, booster='gbtree', colsample_bylevel=1,\n",
       "              colsample_bynode=1, colsample_bytree=1, enable_categorical=False,\n",
       "              eval_metric='logloss', gamma=0, gpu_id=-1, importance_type=None,\n",
       "              interaction_constraints='', learning_rate=0.300000012,\n",
       "              max_delta_step=0, max_depth=6, min_child_weight=1, missing=nan,\n",
       "              monotone_constraints='()', n_estimators=100, n_jobs=12,\n",
       "              num_parallel_tree=1, predictor='auto', random_state=0,\n",
       "              reg_alpha=0, reg_lambda=1, scale_pos_weight=1, subsample=1,\n",
       "              tree_method='exact', use_label_encoder=False,\n",
       "              validate_parameters=1, verbosity=None)"
      ]
     },
     "execution_count": 47,
     "metadata": {},
     "output_type": "execute_result"
    }
   ],
   "source": [
    "XGB = XGBClassifier(use_label_encoder = False, eval_metric = 'logloss')\n",
    "XGB.fit(X_train['ant'],y_train['ant'])"
   ]
  },
  {
   "cell_type": "markdown",
   "id": "19b2faf1",
   "metadata": {},
   "source": [
    "Parameters we're interested in optimizing, so, are:\n",
    "1. `n_estimators` (default: 100, type: int)\n",
    "1. `max_depth` (default: 6, type: int)\n",
    "1. `learning_rate` (default: 0.3, type: float)\n",
    "1. `reg_alpha` (default: 0, type: float)\n",
    "1. `reg_lambda` (default: 1, type: float)\n",
    "1. `gamma` (default: 0, type: float)\n",
    "1. `min_child_weight` (default: 1, type: float)"
   ]
  },
  {
   "cell_type": "markdown",
   "id": "09553803",
   "metadata": {},
   "source": [
    "We have 7 parameters to optimize. This will require a lot of computational resources and could use a lot of time.\n",
    "\n",
    "Instead of a pure brute-force algorithm, for computational reasons we decide to build a *convergent* algorithm that computes, for each parameter, the best value for it and then stops when the change between the last iterations is low.\n",
    "\n",
    "Let's write down a pseudo-code:"
   ]
  },
  {
   "cell_type": "code",
   "execution_count": 48,
   "id": "4309b190",
   "metadata": {},
   "outputs": [],
   "source": [
    "# define parameter grid by importance\n",
    "# for each parameter:\n",
    "    # set count to 0, index to 1\n",
    "    # find a starting interval width\n",
    "    # store default into x\n",
    "    # while count lower than 2\n",
    "        # compute two bounds for an interval of x\n",
    "        # compute auc score for lowerbound, x, upperbound\n",
    "        # find maximum auc and store associated value into best_x\n",
    "        # if best_x is x:\n",
    "            # reduce the interval\n",
    "            # set count to count + 1\n",
    "            # set index to index + 1\n",
    "        # else:\n",
    "            # set count to 0\n",
    "        # store best_x into x"
   ]
  },
  {
   "cell_type": "markdown",
   "id": "b9ccd16d",
   "metadata": {},
   "source": [
    "First of all, we will define a function called **interval**, which will compute the value grid for a parameter. This function will take three parameters: *value*, that is the center of the interval; *index*, from which the width of the interval will depend on; *str_type*, a string that is `'float'` by default but it can be `'int'` if the parameter to find is integer. Obviously, if the value is 0, we can not compute an interval because parameters lower than 0 aren't admitted, and the function will return just 2 values."
   ]
  },
  {
   "cell_type": "code",
   "execution_count": 49,
   "id": "f8cbff9b",
   "metadata": {},
   "outputs": [],
   "source": [
    "def interval(value, index, str_type = 'float'): # \n",
    "    if value == 0:\n",
    "        grid = [value, 1/index]\n",
    "    else:\n",
    "        m = (value / index)\n",
    "        grid = [value-m, value, value+m]\n",
    "    if str_type == 'int': grid = [int(round(v)) for v in grid]\n",
    "    return grid"
   ]
  },
  {
   "cell_type": "markdown",
   "id": "6576d434",
   "metadata": {},
   "source": [
    "Then we define a function called **best_parameter**, taking as input the *dataset*, the *parameter* to estimate and *parameters_found*, the list of parameter for which the best value has already been computed.\n",
    "\n",
    "We start from default values and, until we get the same value **4 times**, we will compute:\n",
    "<ul>\n",
    "    <li>the interval of values we will test, by the function <b>interval</b></li>\n",
    "    <li>the auc score for every value in that interval</li>\n",
    "</ul>\n",
    "\n",
    "If the value associated to the best scores change between one iteration and another, the new interval will have the same width, but it will be centered on the new value. Otherwise, it will have the same center but it's width will be reduced by increasing *index*. Algorithm will stop when the same value will be returned 4 times in a row"
   ]
  },
  {
   "cell_type": "code",
   "execution_count": 50,
   "id": "0bc4d322",
   "metadata": {},
   "outputs": [],
   "source": [
    "def best_parameter(dataset, parameter, parameters_found):\n",
    "    str_type = 'int' if parameter in ('max_depth','n_estimators') else 'float'\n",
    "    count = 0\n",
    "    index = 1\n",
    "    default = {'max_depth': 6, 'learning_rate': 0.3, 'min_child_weight': 1, 'reg_alpha': 0, 'reg_lambda': 1, 'n_estimators':10, 'gamma': 0}\n",
    "    x = default.get(parameter)\n",
    "    max_auc = 0\n",
    "    while count < 4:\n",
    "        grid = interval(x, index, str_type)\n",
    "        for v in grid:\n",
    "            param = {parameter: v}\n",
    "            XGB = XGBClassifier(use_label_encoder = False, eval_metric = 'logloss', **{**parameters_found, **param})\n",
    "            XGB.fit(X_train[dataset], y_train[dataset])\n",
    "            y_pred = XGB.predict(X_test[dataset])\n",
    "            auc = roc_auc_score(y_test[dataset], y_pred, average = 'weighted')\n",
    "            if auc > max_auc:\n",
    "                best_x = v\n",
    "                max_auc = auc\n",
    "        if best_x == x:\n",
    "            index += 1\n",
    "            count += 1\n",
    "        else:\n",
    "            count = 0\n",
    "            x = best_x\n",
    "    return best_x"
   ]
  },
  {
   "cell_type": "markdown",
   "id": "797d6a59",
   "metadata": {},
   "source": [
    "Last step is to define a function, called **get_best_parameters**, that repeats the computation for each parameter. Of course, when a parameter is found, it will be passed as an argument to the function that computes the following parameters"
   ]
  },
  {
   "cell_type": "code",
   "execution_count": 51,
   "id": "9f2274ad",
   "metadata": {},
   "outputs": [],
   "source": [
    "def get_best_parameters(dataset):\n",
    "    to_find = ['max_depth','learning_rate', 'min_child_weight', 'reg_alpha', 'reg_lambda', 'gamma', 'n_estimators']\n",
    "    best_params = {}\n",
    "    for param in to_find:\n",
    "        best_params[param] = best_parameter(dataset, param, best_params)\n",
    "    return best_params"
   ]
  },
  {
   "cell_type": "markdown",
   "id": "45f89f1d",
   "metadata": {},
   "source": [
    "Let's try this algorithm on `ant`. First of all, let's define a dictionary called `best_params` that will include the best parameters' values for each dataset"
   ]
  },
  {
   "cell_type": "code",
   "execution_count": 52,
   "id": "b95f853f",
   "metadata": {},
   "outputs": [],
   "source": [
    "best_params = {}\n",
    "best_params['ant'] = get_best_parameters('ant')"
   ]
  },
  {
   "cell_type": "code",
   "execution_count": 53,
   "id": "1aa6a632",
   "metadata": {},
   "outputs": [
    {
     "data": {
      "text/plain": [
       "{'max_depth': 24,\n",
       " 'learning_rate': 0.15,\n",
       " 'min_child_weight': 2.0,\n",
       " 'reg_alpha': 0,\n",
       " 'reg_lambda': 0.6666666666666667,\n",
       " 'gamma': 0,\n",
       " 'n_estimators': 20}"
      ]
     },
     "execution_count": 53,
     "metadata": {},
     "output_type": "execute_result"
    }
   ],
   "source": [
    "best_params['ant']"
   ]
  },
  {
   "cell_type": "markdown",
   "id": "52b368b0",
   "metadata": {},
   "source": [
    "These are the best values we found for `ant`. Let's test this: first we will run an XGB with default values, then our XGB model and we will compare the scores"
   ]
  },
  {
   "cell_type": "code",
   "execution_count": 54,
   "id": "601f975c",
   "metadata": {},
   "outputs": [
    {
     "name": "stdout",
     "output_type": "stream",
     "text": [
      "AUC: 0.702174\n",
      "F1: 0.8053761\n"
     ]
    }
   ],
   "source": [
    "XGB = XGBClassifier(use_label_encoder = False, eval_metric = 'logloss') # default XGB\n",
    "XGB.fit(X_train['ant'], y_train['ant'])\n",
    "y_pred = XGB.predict(X_test['ant'])\n",
    "auc = roc_auc_score(y_test['ant'], y_pred, average ='weighted')\n",
    "f1 = f1_score(y_test['ant'], y_pred, average ='weighted')\n",
    "print('AUC: %f\\nF1: %f1' %(auc, f1))"
   ]
  },
  {
   "cell_type": "code",
   "execution_count": 55,
   "id": "cb8071b8",
   "metadata": {},
   "outputs": [
    {
     "name": "stdout",
     "output_type": "stream",
     "text": [
      "AUC: 0.740281\n",
      "F1: 0.8331801\n"
     ]
    }
   ],
   "source": [
    "XGB = XGBClassifier(use_label_encoder = False, eval_metric = 'logloss', **best_params['ant']) # optimized XGB\n",
    "XGB.fit(X_train['ant'], y_train['ant'])\n",
    "y_pred = XGB.predict(X_test['ant'])\n",
    "auc = roc_auc_score(y_test['ant'], y_pred, average ='weighted')\n",
    "f1 = f1_score(y_test['ant'], y_pred, average ='weighted')\n",
    "print('AUC: %f\\nF1: %f1' %(auc, f1))"
   ]
  },
  {
   "cell_type": "markdown",
   "id": "e7c7aa4d",
   "metadata": {},
   "source": [
    "As we can observe, the improvement is very significant, as AUC moved from 0.70 to 0.74 and F1 went from 0.80 to 0.83"
   ]
  },
  {
   "cell_type": "markdown",
   "id": "0f2ccf40",
   "metadata": {},
   "source": [
    "Now, we need to compute this for every dataset. This will take a while..."
   ]
  },
  {
   "cell_type": "code",
   "execution_count": 56,
   "id": "eaff96bf",
   "metadata": {
    "scrolled": true
   },
   "outputs": [
    {
     "name": "stdout",
     "output_type": "stream",
     "text": [
      "camel\n",
      "jedit\n",
      "log4j\n",
      "tomcat\n",
      "velocity\n",
      "xalan\n",
      "xerces\n"
     ]
    }
   ],
   "source": [
    "for dataset in names[1:]: # we already did it for ant, so we start from position 1\n",
    "    print(dataset) # just for keeping track of the algorithm while it's running, as it takes a lot of time\n",
    "    best_params[dataset] = get_best_parameters(dataset)"
   ]
  },
  {
   "cell_type": "markdown",
   "id": "0cacc211",
   "metadata": {},
   "source": [
    "Let's explore parameters we found"
   ]
  },
  {
   "cell_type": "code",
   "execution_count": 57,
   "id": "546d8bff",
   "metadata": {},
   "outputs": [
    {
     "data": {
      "text/html": [
       "<div>\n",
       "<style scoped>\n",
       "    .dataframe tbody tr th:only-of-type {\n",
       "        vertical-align: middle;\n",
       "    }\n",
       "\n",
       "    .dataframe tbody tr th {\n",
       "        vertical-align: top;\n",
       "    }\n",
       "\n",
       "    .dataframe thead th {\n",
       "        text-align: right;\n",
       "    }\n",
       "</style>\n",
       "<table border=\"1\" class=\"dataframe\">\n",
       "  <thead>\n",
       "    <tr style=\"text-align: right;\">\n",
       "      <th></th>\n",
       "      <th>ant</th>\n",
       "      <th>camel</th>\n",
       "      <th>jedit</th>\n",
       "      <th>log4j</th>\n",
       "      <th>tomcat</th>\n",
       "      <th>velocity</th>\n",
       "      <th>xalan</th>\n",
       "      <th>xerces</th>\n",
       "    </tr>\n",
       "  </thead>\n",
       "  <tbody>\n",
       "    <tr>\n",
       "      <th>max_depth</th>\n",
       "      <td>24.000000</td>\n",
       "      <td>12.000000</td>\n",
       "      <td>3.0</td>\n",
       "      <td>4.0</td>\n",
       "      <td>8.00</td>\n",
       "      <td>3.0</td>\n",
       "      <td>9.0</td>\n",
       "      <td>6.0</td>\n",
       "    </tr>\n",
       "    <tr>\n",
       "      <th>learning_rate</th>\n",
       "      <td>0.150000</td>\n",
       "      <td>0.600000</td>\n",
       "      <td>0.3</td>\n",
       "      <td>0.3</td>\n",
       "      <td>0.18</td>\n",
       "      <td>0.3</td>\n",
       "      <td>0.4</td>\n",
       "      <td>0.3</td>\n",
       "    </tr>\n",
       "    <tr>\n",
       "      <th>min_child_weight</th>\n",
       "      <td>2.000000</td>\n",
       "      <td>1.333333</td>\n",
       "      <td>3.0</td>\n",
       "      <td>1.0</td>\n",
       "      <td>1.00</td>\n",
       "      <td>0.5</td>\n",
       "      <td>1.0</td>\n",
       "      <td>1.0</td>\n",
       "    </tr>\n",
       "    <tr>\n",
       "      <th>reg_alpha</th>\n",
       "      <td>0.000000</td>\n",
       "      <td>0.000000</td>\n",
       "      <td>0.0</td>\n",
       "      <td>0.0</td>\n",
       "      <td>0.00</td>\n",
       "      <td>0.0</td>\n",
       "      <td>0.0</td>\n",
       "      <td>0.0</td>\n",
       "    </tr>\n",
       "    <tr>\n",
       "      <th>reg_lambda</th>\n",
       "      <td>0.666667</td>\n",
       "      <td>1.000000</td>\n",
       "      <td>1.0</td>\n",
       "      <td>1.0</td>\n",
       "      <td>1.00</td>\n",
       "      <td>1.0</td>\n",
       "      <td>1.5</td>\n",
       "      <td>0.0</td>\n",
       "    </tr>\n",
       "    <tr>\n",
       "      <th>gamma</th>\n",
       "      <td>0.000000</td>\n",
       "      <td>0.000000</td>\n",
       "      <td>0.0</td>\n",
       "      <td>0.0</td>\n",
       "      <td>0.00</td>\n",
       "      <td>0.0</td>\n",
       "      <td>0.0</td>\n",
       "      <td>0.0</td>\n",
       "    </tr>\n",
       "    <tr>\n",
       "      <th>n_estimators</th>\n",
       "      <td>20.000000</td>\n",
       "      <td>10.000000</td>\n",
       "      <td>80.0</td>\n",
       "      <td>10.0</td>\n",
       "      <td>30.00</td>\n",
       "      <td>9.0</td>\n",
       "      <td>10.0</td>\n",
       "      <td>10.0</td>\n",
       "    </tr>\n",
       "  </tbody>\n",
       "</table>\n",
       "</div>"
      ],
      "text/plain": [
       "                        ant      camel  jedit  log4j  tomcat  velocity  xalan  \\\n",
       "max_depth         24.000000  12.000000    3.0    4.0    8.00       3.0    9.0   \n",
       "learning_rate      0.150000   0.600000    0.3    0.3    0.18       0.3    0.4   \n",
       "min_child_weight   2.000000   1.333333    3.0    1.0    1.00       0.5    1.0   \n",
       "reg_alpha          0.000000   0.000000    0.0    0.0    0.00       0.0    0.0   \n",
       "reg_lambda         0.666667   1.000000    1.0    1.0    1.00       1.0    1.5   \n",
       "gamma              0.000000   0.000000    0.0    0.0    0.00       0.0    0.0   \n",
       "n_estimators      20.000000  10.000000   80.0   10.0   30.00       9.0   10.0   \n",
       "\n",
       "                  xerces  \n",
       "max_depth            6.0  \n",
       "learning_rate        0.3  \n",
       "min_child_weight     1.0  \n",
       "reg_alpha            0.0  \n",
       "reg_lambda           0.0  \n",
       "gamma                0.0  \n",
       "n_estimators        10.0  "
      ]
     },
     "execution_count": 57,
     "metadata": {},
     "output_type": "execute_result"
    }
   ],
   "source": [
    "best_params_df = pd.DataFrame(best_params)\n",
    "best_params_df"
   ]
  },
  {
   "cell_type": "markdown",
   "id": "c2025ec7",
   "metadata": {},
   "source": [
    "And now, as a final step, let's run our models on our datasets"
   ]
  },
  {
   "cell_type": "code",
   "execution_count": 58,
   "id": "16ec0790",
   "metadata": {},
   "outputs": [],
   "source": [
    "for key in names:\n",
    "    XGB = XGBClassifier(use_label_encoder = False, eval_metric = 'logloss', **best_params[key])\n",
    "    XGB.fit(X_train[key], y_train[key])\n",
    "    y_pred = XGB.predict(X_test[key])\n",
    "    compute_scores('XGB', key, auc_scores, f1_scores)"
   ]
  },
  {
   "cell_type": "code",
   "execution_count": 59,
   "id": "1188590c",
   "metadata": {
    "scrolled": true
   },
   "outputs": [
    {
     "data": {
      "image/png": "[encoded data removed]",
      "text/plain": [
       "<Figure size 1080x360 with 1 Axes>"
      ]
     },
     "metadata": {
      "needs_background": "light"
     },
     "output_type": "display_data"
    }
   ],
   "source": [
    "boxplot_single_model_scores('XGB')"
   ]
  },
  {
   "cell_type": "markdown",
   "id": "ecfabb14",
   "metadata": {},
   "source": [
    "From the boxplot we can have a clear view on the performances, that are way higher than other models."
   ]
  }
 ],
 "metadata": {
  "kernelspec": {
   "display_name": "Python 3 (ipykernel)",
   "language": "python",
   "name": "python3"
  },
  "language_info": {
   "codemirror_mode": {
    "name": "ipython",
    "version": 3
   },
   "file_extension": ".py",
   "mimetype": "text/x-python",
   "name": "python",
   "nbconvert_exporter": "python",
   "pygments_lexer": "ipython3",
   "version": "3.8.8"
  }
 },
 "nbformat": 4,
 "nbformat_minor": 5
}
