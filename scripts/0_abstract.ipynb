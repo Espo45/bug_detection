{
 "cells": [
  {
   "cell_type": "markdown",
   "id": "2ec7db4d",
   "metadata": {},
   "source": [
    "# Abstract\n",
    "***"
   ]
  },
  {
   "cell_type": "markdown",
   "id": "2aeac3e7",
   "metadata": {},
   "source": [
    "1. [Introduction](#intro)\n",
    "1. [Goal of the work](#goal)\n",
    "1. [Data](#data)\n",
    "1. [Schedule](#sched)\n",
    "1. [Results to obtain](#results)"
   ]
  },
  {
   "cell_type": "markdown",
   "id": "b20b9088",
   "metadata": {},
   "source": [
    "### 1. Introduction<a id='intro'>"
   ]
  },
  {
   "cell_type": "markdown",
   "id": "29a8991f",
   "metadata": {},
   "source": [
    "In software development, an important issue can be represented by the presence of **software defects**, that may cause several problems for both users and developers. In order to avoid that, researchers have been asking for long if is it possible to learn **which characteristics of the source code are likely to produce a software defect**. In the past years, prediction using machine learning methods has been a relevant topic. Many studies have been made with the purpose of support developers in handling these defects before they are introduced in the production environment. However, most of these works concentrate on predicting defects from a vast set of software feature and they lack of a good explanation of the reasons that drive the software to a defective state."
   ]
  },
  {
   "cell_type": "markdown",
   "id": "45eae08d",
   "metadata": {},
   "source": [
    "This work is based on <a href='https://link.springer.com/article/10.1007/s10515-020-00277-4'><b>Understanding machine learning software defect predictions</b></a> by Estevez, Figueiredo, Veloso, Viggiato, Ziviani (2020)."
   ]
  },
  {
   "cell_type": "markdown",
   "id": "e847a898",
   "metadata": {},
   "source": [
    "### 2. Goal of the work<a id='goal'>"
   ]
  },
  {
   "cell_type": "markdown",
   "id": "c26e8f83",
   "metadata": {},
   "source": [
    "The original research by the authors has the main purpose of **finding a model that perfectly fits to the prediction of software defects**. They propose a simple model sampling approach that finds accurate models with the minimum set of features, because **features not contributing to increasing the predictive power should not be included in the model**. The reduced set of features helps to increase model explainability, which is important to provide information to developers on features related to each module of the code which is more defect-prone. Models are evaluated on diverse projects within *Jureczko* datasets, and the goal is to show that **features that contribute most for finding best models may vary depending on the project** and **it is possible to find effective models that use few features leading to better understandability**."
   ]
  },
  {
   "cell_type": "markdown",
   "id": "0c37eac9",
   "metadata": {},
   "source": [
    "### 3. Data<a id='data'>"
   ]
  },
  {
   "cell_type": "markdown",
   "id": "e6b0118e",
   "metadata": {},
   "source": [
    "In order to perform the analysis we will use the following sets included in the *Jureczko dataset*:"
   ]
  },
  {
   "cell_type": "markdown",
   "id": "b208ceb3",
   "metadata": {},
   "source": [
    "<ul>\n",
    "    <li>Ant</li>\n",
    "    <li>Camel</li>\n",
    "    <li>Jedit</li>\n",
    "    <li>Log4j</li>\n",
    "    <li>Tomcat</li>\n",
    "    <li>Velocity</li>\n",
    "    <li>Xalan</li>\n",
    "    <li>Xerces</li>\n",
    "</ul>"
   ]
  },
  {
   "cell_type": "markdown",
   "id": "55a21885",
   "metadata": {},
   "source": [
    "Each of these datasets represents a **Java project**. They will be explored better in <a href=\"2_eda.ipynb\">Section 2</a>"
   ]
  },
  {
   "cell_type": "markdown",
   "id": "3388b70e",
   "metadata": {},
   "source": [
    "### 4. Schedule<a id='sched'>"
   ]
  },
  {
   "cell_type": "markdown",
   "id": "077be110",
   "metadata": {},
   "source": [
    "This work will be divided in several **sections**:\n",
    "<ul>\n",
    "    <li>In the 1st one, data will be loaded and stored</li>\n",
    "    <li>In the 2nd one, an exploratory data analysis will be performed on our datasets, in order to understand their structure and find a way to improve them</li>\n",
    "    <li>In the 3rd one, data will be manipulated</li>\n",
    "    <li>In the 4th one, seven state-of-the-art machine learning algorithms will be applied to our datasets; an optimized XGBoost model will be built; AUC and F1 scores will be computed for each model in order to find the best one</li>\n",
    "    <li>In the 5th one, results will be explained; SHAP values will be computed on XG-Boost models; relevant features will be found</li>\n",
    "</ul>"
   ]
  },
  {
   "cell_type": "markdown",
   "id": "f12eeb50",
   "metadata": {},
   "source": [
    "### 5. Results to obtain<a id='results'>"
   ]
  },
  {
   "cell_type": "markdown",
   "id": "3c23fd17",
   "metadata": {},
   "source": [
    "Our aim is to answer 2 questions:\n",
    "<ul>\n",
    "    <li>Q1: does our XGBoost outperforms the state-of-the-art ML classifiers for defect prediction?</li>\n",
    "    <li>Q2: how does the number of features impact the explainability of the models?</li>"
   ]
  }
 ],
 "metadata": {
  "kernelspec": {
   "display_name": "Python 3 (ipykernel)",
   "language": "python",
   "name": "python3"
  },
  "language_info": {
   "codemirror_mode": {
    "name": "ipython",
    "version": 3
   },
   "file_extension": ".py",
   "mimetype": "text/x-python",
   "name": "python",
   "nbconvert_exporter": "python",
   "pygments_lexer": "ipython3",
   "version": "3.8.8"
  }
 },
 "nbformat": 4,
 "nbformat_minor": 5
}
